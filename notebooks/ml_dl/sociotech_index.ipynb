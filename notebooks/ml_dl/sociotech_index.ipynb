{
 "cells": [
  {
   "metadata": {},
   "cell_type": "markdown",
   "source": [
    "###  SocioTech Index\n",
    "\n",
    "The **SocioTech Index** captures how each district balances its social and technological dimensions —\n",
    "combining mobility, activity rhythm, digital intensity, green access, and safety into a single multidimensional profile.\n",
    "Using an **autoencoder neural network**, the model compresses these features into a compact embedding that reveals structural similarities between districts.\n",
    "Districts with high reconstruction errors stand out as **social–technical anomalies**, showing unique lifestyles or infrastructure patterns.\n",
    "This index visualizes Warsaw’s socio-technical landscape — where the city’s digital, social, and environmental layers intersect."
   ],
   "id": "b33cedb8f0db8f7d"
  },
  {
   "metadata": {
    "collapsed": true,
    "ExecuteTime": {
     "end_time": "2025-10-24T23:50:24.144806Z",
     "start_time": "2025-10-24T23:50:24.143153Z"
    }
   },
   "cell_type": "code",
   "outputs": [],
   "execution_count": 2,
   "source": [
    "import pandas as pd\n",
    "import numpy as np\n",
    "from pathlib import Path"
   ],
   "id": "a2a269836351a77"
  },
  {
   "metadata": {
    "ExecuteTime": {
     "end_time": "2025-10-24T23:51:58.955817Z",
     "start_time": "2025-10-24T23:51:58.953463Z"
    }
   },
   "cell_type": "code",
   "outputs": [],
   "execution_count": 5,
   "source": [
    "RAW_CSV = Path(\"./data/hackplay_warszawa_with_districts.csv\")\n",
    "OPTIONAL_GREEN = Path(\"./data/warsaw_green_places.csv\")\n",
    "OPTIONAL_INCIDENTS = Path(\"./data/danger_stat_from_geoportal.csv\")"
   ],
   "id": "31a55ebfdeb8e94"
  },
  {
   "metadata": {
    "ExecuteTime": {
     "end_time": "2025-10-24T23:51:59.688170Z",
     "start_time": "2025-10-24T23:51:59.670441Z"
    }
   },
   "cell_type": "code",
   "source": [
    "df = pd.read_csv(RAW_CSV, usecols=[\"start_dttm\",\"user_id\",\"technology\",\"district\"], low_memory=False)\n",
    "df[\"start_dttm\"] = pd.to_datetime(df[\"start_dttm\"], errors=\"coerce\")\n",
    "df = df.dropna(subset=[\"start_dttm\",\"district\",\"user_id\"]).copy()\n",
    "df[\"hour\"] = df[\"start_dttm\"].dt.hour"
   ],
   "id": "e9471e698b4af509",
   "outputs": [],
   "execution_count": 6
  },
  {
   "metadata": {
    "ExecuteTime": {
     "end_time": "2025-10-24T23:52:06.340510Z",
     "start_time": "2025-10-24T23:52:06.337980Z"
    }
   },
   "cell_type": "code",
   "source": [
    "def scale_0_100(s: pd.Series):\n",
    "    s = s.astype(float)\n",
    "    mn, mx = s.min(), s.max()\n",
    "    if pd.isna(mn) or mx == mn:\n",
    "        return pd.Series(100.0, index=s.index)\n",
    "    return (s - mn) / (mx - mn) * 100\n"
   ],
   "id": "8c41d3a256d84ffc",
   "outputs": [],
   "execution_count": 7
  },
  {
   "metadata": {
    "ExecuteTime": {
     "end_time": "2025-10-24T23:52:15.153928Z",
     "start_time": "2025-10-24T23:52:15.151831Z"
    }
   },
   "cell_type": "code",
   "source": [
    "def time_bucket(h: int) -> str:\n",
    "    if 5 <= h < 11:  return \"morning\"\n",
    "    if 11 <= h < 17: return \"noon\"\n",
    "    if 17 <= h < 23: return \"evening\"\n",
    "    return \"night\""
   ],
   "id": "775a7318abd25263",
   "outputs": [],
   "execution_count": 8
  },
  {
   "metadata": {
    "ExecuteTime": {
     "end_time": "2025-10-24T23:52:29.985560Z",
     "start_time": "2025-10-24T23:52:29.972167Z"
    }
   },
   "cell_type": "code",
   "source": [
    "df[\"time_bucket\"] = df[\"hour\"].map(time_bucket)\n",
    "traffic = (\n",
    "    df[df[\"time_bucket\"].isin([\"morning\",\"noon\",\"evening\"])]\n",
    "      .groupby([\"district\",\"time_bucket\"])[\"user_id\"].nunique()\n",
    "      .reset_index(name=\"unique_users\")\n",
    ")\n",
    "traffic_score = (\n",
    "    traffic.groupby(\"district\")[\"unique_users\"].sum()\n",
    "           .pipe(scale_0_100)\n",
    "           .rename(\"city_traffic\")\n",
    ")"
   ],
   "id": "b38e5bb2eb82e0ee",
   "outputs": [],
   "execution_count": 11
  },
  {
   "metadata": {
    "ExecuteTime": {
     "end_time": "2025-10-24T23:52:39.880266Z",
     "start_time": "2025-10-24T23:52:39.868501Z"
    }
   },
   "cell_type": "code",
   "source": [
    "df[\"slot_30\"] = df[\"start_dttm\"].dt.floor(\"30min\")\n",
    "dt = df.groupby([\"district\",\"slot_30\"])[\"user_id\"].nunique().rename(\"n\").reset_index()\n",
    "dt[\"copres\"] = dt[\"n\"] * (dt[\"n\"] - 1) / 2\n",
    "social_life = (\n",
    "    dt.groupby(\"district\")[\"copres\"].median()\n",
    "      .pipe(scale_0_100)\n",
    "      .rename(\"social_life\")\n",
    ")\n"
   ],
   "id": "96f24b620838f57",
   "outputs": [],
   "execution_count": 13
  },
  {
   "metadata": {
    "ExecuteTime": {
     "end_time": "2025-10-24T23:52:45.191714Z",
     "start_time": "2025-10-24T23:52:45.175079Z"
    }
   },
   "cell_type": "code",
   "source": [
    "hourly = df.groupby([\"district\",\"hour\"])[\"user_id\"].nunique().unstack(fill_value=0)\n",
    "hourly_norm = hourly.div(hourly.sum(axis=1).replace(0,np.nan), axis=0).fillna(0)\n",
    "amplitude = (hourly_norm.max(axis=1) - hourly_norm.min(axis=1))\n",
    "avg_act = hourly_norm.mean(axis=1)\n",
    "rhythm_raw = 0.5*amplitude + 0.5*avg_act\n",
    "rhythm = scale_0_100(rhythm_raw).rename(\"rhythm\")"
   ],
   "id": "fbd53e5c5cc79be8",
   "outputs": [],
   "execution_count": 14
  },
  {
   "metadata": {
    "ExecuteTime": {
     "end_time": "2025-10-24T23:52:50.633750Z",
     "start_time": "2025-10-24T23:52:50.628742Z"
    }
   },
   "cell_type": "code",
   "source": [
    "active_hours = (hourly_norm > 0.3).sum(axis=1)\n",
    "social_availability = scale_0_100(active_hours).rename(\"social_availability\")"
   ],
   "id": "fac90e8cce0a2298",
   "outputs": [],
   "execution_count": 15
  },
  {
   "metadata": {
    "ExecuteTime": {
     "end_time": "2025-10-24T23:52:59.548127Z",
     "start_time": "2025-10-24T23:52:59.539788Z"
    }
   },
   "cell_type": "code",
   "source": [
    "tech_w = {\"5G\":1.3, \"4G\":1.0, \"3G\":0.6, \"2G\":0.3}\n",
    "df[\"tech_weight\"] = df[\"technology\"].map(tech_w).fillna(1.0)\n",
    "noise_agg = (df.groupby(\"district\")\n",
    "               .agg(total_obs=(\"user_id\",\"count\"),\n",
    "                    unique_users=(\"user_id\",\"nunique\"),\n",
    "                    avg_tech_weight=(\"tech_weight\",\"mean\")))\n",
    "noise_raw = (noise_agg[\"total_obs\"] / noise_agg[\"unique_users\"].replace(0,np.nan)) * noise_agg[\"avg_tech_weight\"]\n",
    "digital_noise = scale_0_100(noise_raw.fillna(0)).rename(\"digital_noise\")"
   ],
   "id": "6687e6c575c4a3f6",
   "outputs": [],
   "execution_count": 16
  },
  {
   "metadata": {
    "ExecuteTime": {
     "end_time": "2025-10-24T23:53:04.778198Z",
     "start_time": "2025-10-24T23:53:04.775157Z"
    }
   },
   "cell_type": "code",
   "source": [
    "presence_ratio = (noise_agg[\"unique_users\"] / noise_agg[\"total_obs\"].replace(0,np.nan)).fillna(0)\n",
    "presence_rank = (presence_ratio.rank(pct=True)*100)\n",
    "inverse_noise = 100 - digital_noise\n",
    "life_balance = scale_0_100(0.6*presence_rank + 0.4*inverse_noise).rename(\"life_balance\")"
   ],
   "id": "693634ce2e9996c2",
   "outputs": [],
   "execution_count": 17
  },
  {
   "metadata": {
    "ExecuteTime": {
     "end_time": "2025-10-24T23:53:10.584660Z",
     "start_time": "2025-10-24T23:53:10.581829Z"
    }
   },
   "cell_type": "code",
   "source": [
    "green = pd.Series(dtype=float, name=\"green_life\")\n",
    "if OPTIONAL_GREEN.exists():\n",
    "    g = pd.read_csv(OPTIONAL_GREEN)\n",
    "    green = g.set_index(\"district\")[\"green_life_score\"]\n",
    "else:\n",
    "    green = pd.Series(np.nan, index=hourly_norm.index, name=\"green_life\")"
   ],
   "id": "4441b3b6ead777d",
   "outputs": [],
   "execution_count": 18
  },
  {
   "metadata": {
    "ExecuteTime": {
     "end_time": "2025-10-24T23:53:20.259371Z",
     "start_time": "2025-10-24T23:53:20.253660Z"
    }
   },
   "cell_type": "code",
   "source": [
    "safety = pd.Series(dtype=float, name=\"safety_index\")\n",
    "if OPTIONAL_INCIDENTS.exists():\n",
    "    inc = pd.read_csv(OPTIONAL_INCIDENTS)\n",
    "    inc = inc.set_index(\"district\")[\"incidents\"]\n",
    "    inc_norm = (inc - inc.min()) / (inc.max() - inc.min() + 1e-9)\n",
    "    safety = ((1 - inc_norm)*100).rename(\"safety_index\")\n",
    "else:\n",
    "    safety = pd.Series(np.nan, index=hourly_norm.index, name=\"safety_index\")"
   ],
   "id": "a738a8e068d96ab7",
   "outputs": [],
   "execution_count": 19
  },
  {
   "metadata": {
    "ExecuteTime": {
     "end_time": "2025-10-24T23:53:38.726253Z",
     "start_time": "2025-10-24T23:53:38.715991Z"
    }
   },
   "cell_type": "code",
   "source": [
    "ind = pd.DataFrame(index=hourly_norm.index)\n",
    "ind[\"city_traffic\"] = traffic_score\n",
    "ind[\"social_life\"] = social_life\n",
    "ind[\"rhythm\"] = rhythm\n",
    "ind[\"green_life\"] = green.reindex(ind.index)\n",
    "ind[\"digital_noise\"] = digital_noise\n",
    "ind[\"life_balance\"] = life_balance\n",
    "ind[\"social_availability\"] = social_availability\n",
    "ind[\"safety_index\"] = safety.reindex(ind.index)\n",
    "\n",
    "ind.reset_index(names=\"district\", inplace=True)\n",
    "ind.to_csv(\"./data/district_indicators.csv\", index=False)"
   ],
   "id": "7e4d5fd1099abc6b",
   "outputs": [],
   "execution_count": 20
  },
  {
   "metadata": {
    "ExecuteTime": {
     "end_time": "2025-10-24T23:54:51.193165Z",
     "start_time": "2025-10-24T23:54:27.422497Z"
    }
   },
   "cell_type": "code",
   "source": [
    "from sklearn.preprocessing import MinMaxScaler\n",
    "import tensorflow as tf\n",
    "from tensorflow import keras\n",
    "from tensorflow.keras import layers"
   ],
   "id": "8478eaefa5b683d1",
   "outputs": [],
   "execution_count": 22
  },
  {
   "metadata": {
    "ExecuteTime": {
     "end_time": "2025-10-24T23:54:55.728522Z",
     "start_time": "2025-10-24T23:54:55.724729Z"
    }
   },
   "cell_type": "code",
   "source": [
    "features_cols = [\"city_traffic\",\"social_life\",\"rhythm\",\"green_life\",\n",
    "                 \"digital_noise\",\"life_balance\",\"social_availability\",\"safety_index\"]\n",
    "X = ind[features_cols].astype(float).copy()"
   ],
   "id": "7e1acccbebd5945d",
   "outputs": [],
   "execution_count": 23
  },
  {
   "metadata": {
    "ExecuteTime": {
     "end_time": "2025-10-24T23:55:04.653146Z",
     "start_time": "2025-10-24T23:55:03.148413Z"
    }
   },
   "cell_type": "code",
   "source": [
    "X = X.apply(lambda col: col.fillna(col.median()))\n",
    "scaler = MinMaxScaler()\n",
    "X_scaled = scaler.fit_transform(X.values)\n",
    "\n",
    "inp = keras.Input(shape=(X_scaled.shape[1],))\n",
    "latent_dim = 3\n",
    "h = layers.Dense(16, activation=\"relu\")(inp)\n",
    "h = layers.Dense(8, activation=\"relu\")(h)\n",
    "z = layers.Dense(latent_dim, activation=\"linear\", name=\"latent\")(h)\n",
    "h2 = layers.Dense(8, activation=\"relu\")(z)\n",
    "h2 = layers.Dense(16, activation=\"relu\")(h2)\n",
    "out = layers.Dense(X_scaled.shape[1], activation=\"sigmoid\")(h2)\n",
    "\n",
    "autoenc = keras.Model(inp, out)\n",
    "enc = keras.Model(inp, z)\n",
    "autoenc.compile(optimizer=keras.optimizers.Adam(1e-3), loss=\"mse\")\n",
    "cb = [keras.callbacks.EarlyStopping(monitor=\"loss\", patience=50, restore_best_weights=True)]\n",
    "autoenc.fit(X_scaled, X_scaled, epochs=1000, batch_size=len(X_scaled), verbose=0, callbacks=cb)\n",
    "\n",
    "Z = enc.predict(X_scaled, verbose=0)\n",
    "X_rec = autoenc.predict(X_scaled, verbose=0)\n",
    "recon_err = ((X_scaled - X_rec)**2).sum(axis=1)"
   ],
   "id": "f758a2301d4e05d5",
   "outputs": [
    {
     "name": "stderr",
     "output_type": "stream",
     "text": [
      "/Users/maciejwasilewski/projects/h4jupyter/.venv/lib/python3.13/site-packages/numpy/lib/_nanfunctions_impl.py:1214: RuntimeWarning: Mean of empty slice\n",
      "  return np.nanmean(a, axis, out=out, keepdims=keepdims)\n",
      "/Users/maciejwasilewski/projects/h4jupyter/.venv/lib/python3.13/site-packages/sklearn/utils/_array_api.py:686: RuntimeWarning: All-NaN slice encountered\n",
      "  return xp.asarray(numpy.nanmin(X, axis=axis))\n",
      "/Users/maciejwasilewski/projects/h4jupyter/.venv/lib/python3.13/site-packages/sklearn/utils/_array_api.py:706: RuntimeWarning: All-NaN slice encountered\n",
      "  return xp.asarray(numpy.nanmax(X, axis=axis))\n"
     ]
    }
   ],
   "execution_count": 24
  },
  {
   "metadata": {
    "ExecuteTime": {
     "end_time": "2025-10-24T23:55:26.188260Z",
     "start_time": "2025-10-24T23:55:26.164780Z"
    }
   },
   "cell_type": "code",
   "source": [
    "from scipy.stats import zscore\n",
    "err_z = zscore(recon_err)\n",
    "anom = np.clip((err_z - err_z.min())/(err_z.max()-err_z.min()+1e-9), 0, 1)*100\n",
    "ind[\"soc_tech_emb_1\"] = Z[:,0]\n",
    "ind[\"soc_tech_emb_2\"] = Z[:,1] if Z.shape[1] > 1 else 0.0\n",
    "ind[\"soc_tech_emb_3\"] = Z[:,2] if Z.shape[1] > 2 else 0.0\n",
    "ind[\"sociotech_anomaly_score\"] = np.round(anom, 1)\n",
    "ind[\"sociotech_index\"] = np.round(100 - ind[\"sociotech_anomaly_score\"], 1)\n",
    "\n",
    "ind.to_csv(\"./data/sociotech_index.csv\", index=False)"
   ],
   "id": "b01bf36770f4b2e7",
   "outputs": [],
   "execution_count": 25
  },
  {
   "metadata": {
    "ExecuteTime": {
     "end_time": "2025-10-24T23:55:48.195284Z",
     "start_time": "2025-10-24T23:55:47.595801Z"
    }
   },
   "cell_type": "code",
   "source": [
    "try:\n",
    "    import umap\n",
    "    reducer = umap.UMAP(n_neighbors=8, min_dist=0.2, random_state=42)\n",
    "    Z2 = reducer.fit_transform(Z)\n",
    "except Exception:\n",
    "    from sklearn.decomposition import PCA\n",
    "    Z2 = PCA(n_components=2, random_state=42).fit_transform(Z)\n",
    "pd.DataFrame({\"district\": ind[\"district\"], \"soc_tech_2d_x\": Z2[:,0], \"soc_tech_2d_y\": Z2[:,1]}).to_csv(\"./data/sociotech_embedding_2d.csv\", index=False)"
   ],
   "id": "a97a81db1b93b653",
   "outputs": [
    {
     "ename": "ValueError",
     "evalue": "Input X contains NaN.\nPCA does not accept missing values encoded as NaN natively. For supervised learning, you might want to consider sklearn.ensemble.HistGradientBoostingClassifier and Regressor which accept missing values encoded as NaNs natively. Alternatively, it is possible to preprocess the data, for instance by using an imputer transformer in a pipeline or drop samples with missing values. See https://scikit-learn.org/stable/modules/impute.html You can find a list of all estimators that handle NaN values at the following page: https://scikit-learn.org/stable/modules/impute.html#estimators-that-handle-nan-values",
     "output_type": "error",
     "traceback": [
      "\u001B[31m---------------------------------------------------------------------------\u001B[39m",
      "\u001B[31mModuleNotFoundError\u001B[39m                       Traceback (most recent call last)",
      "\u001B[36mCell\u001B[39m\u001B[36m \u001B[39m\u001B[32mIn[26]\u001B[39m\u001B[32m, line 2\u001B[39m\n\u001B[32m      1\u001B[39m \u001B[38;5;28;01mtry\u001B[39;00m:\n\u001B[32m----> \u001B[39m\u001B[32m2\u001B[39m     \u001B[38;5;28;01mimport\u001B[39;00m\u001B[38;5;250m \u001B[39m\u001B[34;01mumap\u001B[39;00m\n\u001B[32m      3\u001B[39m     reducer = umap.UMAP(n_neighbors=\u001B[32m8\u001B[39m, min_dist=\u001B[32m0.2\u001B[39m, random_state=\u001B[32m42\u001B[39m)\n",
      "\u001B[31mModuleNotFoundError\u001B[39m: No module named 'umap'",
      "\nDuring handling of the above exception, another exception occurred:\n",
      "\u001B[31mValueError\u001B[39m                                Traceback (most recent call last)",
      "\u001B[36mCell\u001B[39m\u001B[36m \u001B[39m\u001B[32mIn[26]\u001B[39m\u001B[32m, line 7\u001B[39m\n\u001B[32m      5\u001B[39m \u001B[38;5;28;01mexcept\u001B[39;00m \u001B[38;5;167;01mException\u001B[39;00m:\n\u001B[32m      6\u001B[39m     \u001B[38;5;28;01mfrom\u001B[39;00m\u001B[38;5;250m \u001B[39m\u001B[34;01msklearn\u001B[39;00m\u001B[34;01m.\u001B[39;00m\u001B[34;01mdecomposition\u001B[39;00m\u001B[38;5;250m \u001B[39m\u001B[38;5;28;01mimport\u001B[39;00m PCA\n\u001B[32m----> \u001B[39m\u001B[32m7\u001B[39m     Z2 = \u001B[43mPCA\u001B[49m\u001B[43m(\u001B[49m\u001B[43mn_components\u001B[49m\u001B[43m=\u001B[49m\u001B[32;43m2\u001B[39;49m\u001B[43m,\u001B[49m\u001B[43m \u001B[49m\u001B[43mrandom_state\u001B[49m\u001B[43m=\u001B[49m\u001B[32;43m42\u001B[39;49m\u001B[43m)\u001B[49m\u001B[43m.\u001B[49m\u001B[43mfit_transform\u001B[49m\u001B[43m(\u001B[49m\u001B[43mZ\u001B[49m\u001B[43m)\u001B[49m\n\u001B[32m      8\u001B[39m pd.DataFrame({\u001B[33m\"\u001B[39m\u001B[33mdistrict\u001B[39m\u001B[33m\"\u001B[39m: ind[\u001B[33m\"\u001B[39m\u001B[33mdistrict\u001B[39m\u001B[33m\"\u001B[39m], \u001B[33m\"\u001B[39m\u001B[33msoc_tech_2d_x\u001B[39m\u001B[33m\"\u001B[39m: Z2[:,\u001B[32m0\u001B[39m], \u001B[33m\"\u001B[39m\u001B[33msoc_tech_2d_y\u001B[39m\u001B[33m\"\u001B[39m: Z2[:,\u001B[32m1\u001B[39m]}).to_csv(\u001B[33m\"\u001B[39m\u001B[33m./data/sociotech_embedding_2d.csv\u001B[39m\u001B[33m\"\u001B[39m, index=\u001B[38;5;28;01mFalse\u001B[39;00m)\n\u001B[32m      9\u001B[39m \u001B[38;5;28mprint\u001B[39m(\u001B[33m\"\u001B[39m\u001B[33m✅ Saved sociotech_embedding_2d.csv\u001B[39m\u001B[33m\"\u001B[39m)\n",
      "\u001B[36mFile \u001B[39m\u001B[32m~/projects/h4jupyter/.venv/lib/python3.13/site-packages/sklearn/utils/_set_output.py:316\u001B[39m, in \u001B[36m_wrap_method_output.<locals>.wrapped\u001B[39m\u001B[34m(self, X, *args, **kwargs)\u001B[39m\n\u001B[32m    314\u001B[39m \u001B[38;5;129m@wraps\u001B[39m(f)\n\u001B[32m    315\u001B[39m \u001B[38;5;28;01mdef\u001B[39;00m\u001B[38;5;250m \u001B[39m\u001B[34mwrapped\u001B[39m(\u001B[38;5;28mself\u001B[39m, X, *args, **kwargs):\n\u001B[32m--> \u001B[39m\u001B[32m316\u001B[39m     data_to_wrap = \u001B[43mf\u001B[49m\u001B[43m(\u001B[49m\u001B[38;5;28;43mself\u001B[39;49m\u001B[43m,\u001B[49m\u001B[43m \u001B[49m\u001B[43mX\u001B[49m\u001B[43m,\u001B[49m\u001B[43m \u001B[49m\u001B[43m*\u001B[49m\u001B[43margs\u001B[49m\u001B[43m,\u001B[49m\u001B[43m \u001B[49m\u001B[43m*\u001B[49m\u001B[43m*\u001B[49m\u001B[43mkwargs\u001B[49m\u001B[43m)\u001B[49m\n\u001B[32m    317\u001B[39m     \u001B[38;5;28;01mif\u001B[39;00m \u001B[38;5;28misinstance\u001B[39m(data_to_wrap, \u001B[38;5;28mtuple\u001B[39m):\n\u001B[32m    318\u001B[39m         \u001B[38;5;66;03m# only wrap the first output for cross decomposition\u001B[39;00m\n\u001B[32m    319\u001B[39m         return_tuple = (\n\u001B[32m    320\u001B[39m             _wrap_data_with_container(method, data_to_wrap[\u001B[32m0\u001B[39m], X, \u001B[38;5;28mself\u001B[39m),\n\u001B[32m    321\u001B[39m             *data_to_wrap[\u001B[32m1\u001B[39m:],\n\u001B[32m    322\u001B[39m         )\n",
      "\u001B[36mFile \u001B[39m\u001B[32m~/projects/h4jupyter/.venv/lib/python3.13/site-packages/sklearn/base.py:1365\u001B[39m, in \u001B[36m_fit_context.<locals>.decorator.<locals>.wrapper\u001B[39m\u001B[34m(estimator, *args, **kwargs)\u001B[39m\n\u001B[32m   1358\u001B[39m     estimator._validate_params()\n\u001B[32m   1360\u001B[39m \u001B[38;5;28;01mwith\u001B[39;00m config_context(\n\u001B[32m   1361\u001B[39m     skip_parameter_validation=(\n\u001B[32m   1362\u001B[39m         prefer_skip_nested_validation \u001B[38;5;129;01mor\u001B[39;00m global_skip_validation\n\u001B[32m   1363\u001B[39m     )\n\u001B[32m   1364\u001B[39m ):\n\u001B[32m-> \u001B[39m\u001B[32m1365\u001B[39m     \u001B[38;5;28;01mreturn\u001B[39;00m \u001B[43mfit_method\u001B[49m\u001B[43m(\u001B[49m\u001B[43mestimator\u001B[49m\u001B[43m,\u001B[49m\u001B[43m \u001B[49m\u001B[43m*\u001B[49m\u001B[43margs\u001B[49m\u001B[43m,\u001B[49m\u001B[43m \u001B[49m\u001B[43m*\u001B[49m\u001B[43m*\u001B[49m\u001B[43mkwargs\u001B[49m\u001B[43m)\u001B[49m\n",
      "\u001B[36mFile \u001B[39m\u001B[32m~/projects/h4jupyter/.venv/lib/python3.13/site-packages/sklearn/decomposition/_pca.py:466\u001B[39m, in \u001B[36mPCA.fit_transform\u001B[39m\u001B[34m(self, X, y)\u001B[39m\n\u001B[32m    443\u001B[39m \u001B[38;5;129m@_fit_context\u001B[39m(prefer_skip_nested_validation=\u001B[38;5;28;01mTrue\u001B[39;00m)\n\u001B[32m    444\u001B[39m \u001B[38;5;28;01mdef\u001B[39;00m\u001B[38;5;250m \u001B[39m\u001B[34mfit_transform\u001B[39m(\u001B[38;5;28mself\u001B[39m, X, y=\u001B[38;5;28;01mNone\u001B[39;00m):\n\u001B[32m    445\u001B[39m \u001B[38;5;250m    \u001B[39m\u001B[33;03m\"\"\"Fit the model with X and apply the dimensionality reduction on X.\u001B[39;00m\n\u001B[32m    446\u001B[39m \n\u001B[32m    447\u001B[39m \u001B[33;03m    Parameters\u001B[39;00m\n\u001B[32m   (...)\u001B[39m\u001B[32m    464\u001B[39m \u001B[33;03m    C-ordered array, use 'np.ascontiguousarray'.\u001B[39;00m\n\u001B[32m    465\u001B[39m \u001B[33;03m    \"\"\"\u001B[39;00m\n\u001B[32m--> \u001B[39m\u001B[32m466\u001B[39m     U, S, _, X, x_is_centered, xp = \u001B[38;5;28;43mself\u001B[39;49m\u001B[43m.\u001B[49m\u001B[43m_fit\u001B[49m\u001B[43m(\u001B[49m\u001B[43mX\u001B[49m\u001B[43m)\u001B[49m\n\u001B[32m    467\u001B[39m     \u001B[38;5;28;01mif\u001B[39;00m U \u001B[38;5;129;01mis\u001B[39;00m \u001B[38;5;129;01mnot\u001B[39;00m \u001B[38;5;28;01mNone\u001B[39;00m:\n\u001B[32m    468\u001B[39m         U = U[:, : \u001B[38;5;28mself\u001B[39m.n_components_]\n",
      "\u001B[36mFile \u001B[39m\u001B[32m~/projects/h4jupyter/.venv/lib/python3.13/site-packages/sklearn/decomposition/_pca.py:503\u001B[39m, in \u001B[36mPCA._fit\u001B[39m\u001B[34m(self, X)\u001B[39m\n\u001B[32m    493\u001B[39m     \u001B[38;5;28;01mraise\u001B[39;00m \u001B[38;5;167;01mValueError\u001B[39;00m(\n\u001B[32m    494\u001B[39m         \u001B[33m\"\u001B[39m\u001B[33mPCA with svd_solver=\u001B[39m\u001B[33m'\u001B[39m\u001B[33marpack\u001B[39m\u001B[33m'\u001B[39m\u001B[33m is not supported for Array API inputs.\u001B[39m\u001B[33m\"\u001B[39m\n\u001B[32m    495\u001B[39m     )\n\u001B[32m    497\u001B[39m \u001B[38;5;66;03m# Validate the data, without ever forcing a copy as any solver that\u001B[39;00m\n\u001B[32m    498\u001B[39m \u001B[38;5;66;03m# supports sparse input data and the `covariance_eigh` solver are\u001B[39;00m\n\u001B[32m    499\u001B[39m \u001B[38;5;66;03m# written in a way to avoid the need for any inplace modification of\u001B[39;00m\n\u001B[32m    500\u001B[39m \u001B[38;5;66;03m# the input data contrary to the other solvers.\u001B[39;00m\n\u001B[32m    501\u001B[39m \u001B[38;5;66;03m# The copy will happen\u001B[39;00m\n\u001B[32m    502\u001B[39m \u001B[38;5;66;03m# later, only if needed, once the solver negotiation below is done.\u001B[39;00m\n\u001B[32m--> \u001B[39m\u001B[32m503\u001B[39m X = \u001B[43mvalidate_data\u001B[49m\u001B[43m(\u001B[49m\n\u001B[32m    504\u001B[39m \u001B[43m    \u001B[49m\u001B[38;5;28;43mself\u001B[39;49m\u001B[43m,\u001B[49m\n\u001B[32m    505\u001B[39m \u001B[43m    \u001B[49m\u001B[43mX\u001B[49m\u001B[43m,\u001B[49m\n\u001B[32m    506\u001B[39m \u001B[43m    \u001B[49m\u001B[43mdtype\u001B[49m\u001B[43m=\u001B[49m\u001B[43m[\u001B[49m\u001B[43mxp\u001B[49m\u001B[43m.\u001B[49m\u001B[43mfloat64\u001B[49m\u001B[43m,\u001B[49m\u001B[43m \u001B[49m\u001B[43mxp\u001B[49m\u001B[43m.\u001B[49m\u001B[43mfloat32\u001B[49m\u001B[43m]\u001B[49m\u001B[43m,\u001B[49m\n\u001B[32m    507\u001B[39m \u001B[43m    \u001B[49m\u001B[43mforce_writeable\u001B[49m\u001B[43m=\u001B[49m\u001B[38;5;28;43;01mTrue\u001B[39;49;00m\u001B[43m,\u001B[49m\n\u001B[32m    508\u001B[39m \u001B[43m    \u001B[49m\u001B[43maccept_sparse\u001B[49m\u001B[43m=\u001B[49m\u001B[43m(\u001B[49m\u001B[33;43m\"\u001B[39;49m\u001B[33;43mcsr\u001B[39;49m\u001B[33;43m\"\u001B[39;49m\u001B[43m,\u001B[49m\u001B[43m \u001B[49m\u001B[33;43m\"\u001B[39;49m\u001B[33;43mcsc\u001B[39;49m\u001B[33;43m\"\u001B[39;49m\u001B[43m)\u001B[49m\u001B[43m,\u001B[49m\n\u001B[32m    509\u001B[39m \u001B[43m    \u001B[49m\u001B[43mensure_2d\u001B[49m\u001B[43m=\u001B[49m\u001B[38;5;28;43;01mTrue\u001B[39;49;00m\u001B[43m,\u001B[49m\n\u001B[32m    510\u001B[39m \u001B[43m    \u001B[49m\u001B[43mcopy\u001B[49m\u001B[43m=\u001B[49m\u001B[38;5;28;43;01mFalse\u001B[39;49;00m\u001B[43m,\u001B[49m\n\u001B[32m    511\u001B[39m \u001B[43m\u001B[49m\u001B[43m)\u001B[49m\n\u001B[32m    512\u001B[39m \u001B[38;5;28mself\u001B[39m._fit_svd_solver = \u001B[38;5;28mself\u001B[39m.svd_solver\n\u001B[32m    513\u001B[39m \u001B[38;5;28;01mif\u001B[39;00m \u001B[38;5;28mself\u001B[39m._fit_svd_solver == \u001B[33m\"\u001B[39m\u001B[33mauto\u001B[39m\u001B[33m\"\u001B[39m \u001B[38;5;129;01mand\u001B[39;00m issparse(X):\n",
      "\u001B[36mFile \u001B[39m\u001B[32m~/projects/h4jupyter/.venv/lib/python3.13/site-packages/sklearn/utils/validation.py:2954\u001B[39m, in \u001B[36mvalidate_data\u001B[39m\u001B[34m(_estimator, X, y, reset, validate_separately, skip_check_array, **check_params)\u001B[39m\n\u001B[32m   2952\u001B[39m         out = X, y\n\u001B[32m   2953\u001B[39m \u001B[38;5;28;01melif\u001B[39;00m \u001B[38;5;129;01mnot\u001B[39;00m no_val_X \u001B[38;5;129;01mand\u001B[39;00m no_val_y:\n\u001B[32m-> \u001B[39m\u001B[32m2954\u001B[39m     out = \u001B[43mcheck_array\u001B[49m\u001B[43m(\u001B[49m\u001B[43mX\u001B[49m\u001B[43m,\u001B[49m\u001B[43m \u001B[49m\u001B[43minput_name\u001B[49m\u001B[43m=\u001B[49m\u001B[33;43m\"\u001B[39;49m\u001B[33;43mX\u001B[39;49m\u001B[33;43m\"\u001B[39;49m\u001B[43m,\u001B[49m\u001B[43m \u001B[49m\u001B[43m*\u001B[49m\u001B[43m*\u001B[49m\u001B[43mcheck_params\u001B[49m\u001B[43m)\u001B[49m\n\u001B[32m   2955\u001B[39m \u001B[38;5;28;01melif\u001B[39;00m no_val_X \u001B[38;5;129;01mand\u001B[39;00m \u001B[38;5;129;01mnot\u001B[39;00m no_val_y:\n\u001B[32m   2956\u001B[39m     out = _check_y(y, **check_params)\n",
      "\u001B[36mFile \u001B[39m\u001B[32m~/projects/h4jupyter/.venv/lib/python3.13/site-packages/sklearn/utils/validation.py:1105\u001B[39m, in \u001B[36mcheck_array\u001B[39m\u001B[34m(array, accept_sparse, accept_large_sparse, dtype, order, copy, force_writeable, force_all_finite, ensure_all_finite, ensure_non_negative, ensure_2d, allow_nd, ensure_min_samples, ensure_min_features, estimator, input_name)\u001B[39m\n\u001B[32m   1099\u001B[39m     \u001B[38;5;28;01mraise\u001B[39;00m \u001B[38;5;167;01mValueError\u001B[39;00m(\n\u001B[32m   1100\u001B[39m         \u001B[33mf\u001B[39m\u001B[33m\"\u001B[39m\u001B[33mFound array with dim \u001B[39m\u001B[38;5;132;01m{\u001B[39;00marray.ndim\u001B[38;5;132;01m}\u001B[39;00m\u001B[33m,\u001B[39m\u001B[33m\"\u001B[39m\n\u001B[32m   1101\u001B[39m         \u001B[33mf\u001B[39m\u001B[33m\"\u001B[39m\u001B[33m while dim <= 2 is required\u001B[39m\u001B[38;5;132;01m{\u001B[39;00mcontext\u001B[38;5;132;01m}\u001B[39;00m\u001B[33m.\u001B[39m\u001B[33m\"\u001B[39m\n\u001B[32m   1102\u001B[39m     )\n\u001B[32m   1104\u001B[39m \u001B[38;5;28;01mif\u001B[39;00m ensure_all_finite:\n\u001B[32m-> \u001B[39m\u001B[32m1105\u001B[39m     \u001B[43m_assert_all_finite\u001B[49m\u001B[43m(\u001B[49m\n\u001B[32m   1106\u001B[39m \u001B[43m        \u001B[49m\u001B[43marray\u001B[49m\u001B[43m,\u001B[49m\n\u001B[32m   1107\u001B[39m \u001B[43m        \u001B[49m\u001B[43minput_name\u001B[49m\u001B[43m=\u001B[49m\u001B[43minput_name\u001B[49m\u001B[43m,\u001B[49m\n\u001B[32m   1108\u001B[39m \u001B[43m        \u001B[49m\u001B[43mestimator_name\u001B[49m\u001B[43m=\u001B[49m\u001B[43mestimator_name\u001B[49m\u001B[43m,\u001B[49m\n\u001B[32m   1109\u001B[39m \u001B[43m        \u001B[49m\u001B[43mallow_nan\u001B[49m\u001B[43m=\u001B[49m\u001B[43mensure_all_finite\u001B[49m\u001B[43m \u001B[49m\u001B[43m==\u001B[49m\u001B[43m \u001B[49m\u001B[33;43m\"\u001B[39;49m\u001B[33;43mallow-nan\u001B[39;49m\u001B[33;43m\"\u001B[39;49m\u001B[43m,\u001B[49m\n\u001B[32m   1110\u001B[39m \u001B[43m    \u001B[49m\u001B[43m)\u001B[49m\n\u001B[32m   1112\u001B[39m \u001B[38;5;28;01mif\u001B[39;00m copy:\n\u001B[32m   1113\u001B[39m     \u001B[38;5;28;01mif\u001B[39;00m _is_numpy_namespace(xp):\n\u001B[32m   1114\u001B[39m         \u001B[38;5;66;03m# only make a copy if `array` and `array_orig` may share memory`\u001B[39;00m\n",
      "\u001B[36mFile \u001B[39m\u001B[32m~/projects/h4jupyter/.venv/lib/python3.13/site-packages/sklearn/utils/validation.py:120\u001B[39m, in \u001B[36m_assert_all_finite\u001B[39m\u001B[34m(X, allow_nan, msg_dtype, estimator_name, input_name)\u001B[39m\n\u001B[32m    117\u001B[39m \u001B[38;5;28;01mif\u001B[39;00m first_pass_isfinite:\n\u001B[32m    118\u001B[39m     \u001B[38;5;28;01mreturn\u001B[39;00m\n\u001B[32m--> \u001B[39m\u001B[32m120\u001B[39m \u001B[43m_assert_all_finite_element_wise\u001B[49m\u001B[43m(\u001B[49m\n\u001B[32m    121\u001B[39m \u001B[43m    \u001B[49m\u001B[43mX\u001B[49m\u001B[43m,\u001B[49m\n\u001B[32m    122\u001B[39m \u001B[43m    \u001B[49m\u001B[43mxp\u001B[49m\u001B[43m=\u001B[49m\u001B[43mxp\u001B[49m\u001B[43m,\u001B[49m\n\u001B[32m    123\u001B[39m \u001B[43m    \u001B[49m\u001B[43mallow_nan\u001B[49m\u001B[43m=\u001B[49m\u001B[43mallow_nan\u001B[49m\u001B[43m,\u001B[49m\n\u001B[32m    124\u001B[39m \u001B[43m    \u001B[49m\u001B[43mmsg_dtype\u001B[49m\u001B[43m=\u001B[49m\u001B[43mmsg_dtype\u001B[49m\u001B[43m,\u001B[49m\n\u001B[32m    125\u001B[39m \u001B[43m    \u001B[49m\u001B[43mestimator_name\u001B[49m\u001B[43m=\u001B[49m\u001B[43mestimator_name\u001B[49m\u001B[43m,\u001B[49m\n\u001B[32m    126\u001B[39m \u001B[43m    \u001B[49m\u001B[43minput_name\u001B[49m\u001B[43m=\u001B[49m\u001B[43minput_name\u001B[49m\u001B[43m,\u001B[49m\n\u001B[32m    127\u001B[39m \u001B[43m\u001B[49m\u001B[43m)\u001B[49m\n",
      "\u001B[36mFile \u001B[39m\u001B[32m~/projects/h4jupyter/.venv/lib/python3.13/site-packages/sklearn/utils/validation.py:169\u001B[39m, in \u001B[36m_assert_all_finite_element_wise\u001B[39m\u001B[34m(X, xp, allow_nan, msg_dtype, estimator_name, input_name)\u001B[39m\n\u001B[32m    152\u001B[39m \u001B[38;5;28;01mif\u001B[39;00m estimator_name \u001B[38;5;129;01mand\u001B[39;00m input_name == \u001B[33m\"\u001B[39m\u001B[33mX\u001B[39m\u001B[33m\"\u001B[39m \u001B[38;5;129;01mand\u001B[39;00m has_nan_error:\n\u001B[32m    153\u001B[39m     \u001B[38;5;66;03m# Improve the error message on how to handle missing values in\u001B[39;00m\n\u001B[32m    154\u001B[39m     \u001B[38;5;66;03m# scikit-learn.\u001B[39;00m\n\u001B[32m    155\u001B[39m     msg_err += (\n\u001B[32m    156\u001B[39m         \u001B[33mf\u001B[39m\u001B[33m\"\u001B[39m\u001B[38;5;130;01m\\n\u001B[39;00m\u001B[38;5;132;01m{\u001B[39;00mestimator_name\u001B[38;5;132;01m}\u001B[39;00m\u001B[33m does not accept missing values\u001B[39m\u001B[33m\"\u001B[39m\n\u001B[32m    157\u001B[39m         \u001B[33m\"\u001B[39m\u001B[33m encoded as NaN natively. For supervised learning, you might want\u001B[39m\u001B[33m\"\u001B[39m\n\u001B[32m   (...)\u001B[39m\u001B[32m    167\u001B[39m         \u001B[33m\"\u001B[39m\u001B[33m#estimators-that-handle-nan-values\u001B[39m\u001B[33m\"\u001B[39m\n\u001B[32m    168\u001B[39m     )\n\u001B[32m--> \u001B[39m\u001B[32m169\u001B[39m \u001B[38;5;28;01mraise\u001B[39;00m \u001B[38;5;167;01mValueError\u001B[39;00m(msg_err)\n",
      "\u001B[31mValueError\u001B[39m: Input X contains NaN.\nPCA does not accept missing values encoded as NaN natively. For supervised learning, you might want to consider sklearn.ensemble.HistGradientBoostingClassifier and Regressor which accept missing values encoded as NaNs natively. Alternatively, it is possible to preprocess the data, for instance by using an imputer transformer in a pipeline or drop samples with missing values. See https://scikit-learn.org/stable/modules/impute.html You can find a list of all estimators that handle NaN values at the following page: https://scikit-learn.org/stable/modules/impute.html#estimators-that-handle-nan-values"
     ]
    }
   ],
   "execution_count": 26
  },
  {
   "metadata": {},
   "cell_type": "code",
   "outputs": [],
   "execution_count": null,
   "source": "",
   "id": "310acb7daba67f75"
  }
 ],
 "metadata": {
  "kernelspec": {
   "display_name": "Python 3",
   "language": "python",
   "name": "python3"
  },
  "language_info": {
   "codemirror_mode": {
    "name": "ipython",
    "version": 2
   },
   "file_extension": ".py",
   "mimetype": "text/x-python",
   "name": "python",
   "nbconvert_exporter": "python",
   "pygments_lexer": "ipython2",
   "version": "2.7.6"
  }
 },
 "nbformat": 4,
 "nbformat_minor": 5
}
