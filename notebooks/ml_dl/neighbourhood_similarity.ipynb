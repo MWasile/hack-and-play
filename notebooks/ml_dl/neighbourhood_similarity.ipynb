{
 "cells": [
  {
   "metadata": {},
   "cell_type": "markdown",
   "source": [
    "###  Neighbourhood Similarity Map\n",
    "\n",
    "The **Neighbourhood Similarity Map** uses a neural embedding model (Word2Vec) to learn how Warsaw’s districts relate to each other through real user movement patterns.\n",
    "By analyzing anonymized mobility sequences, it identifies districts that often appear together in people’s daily routes — revealing hidden connections between residential, business, and recreational areas.\n",
    "If many users frequently move between Ursynów and Mokotów, for example, the model learns that these districts share a similar lifestyle and functional character.\n",
    "This data-driven proximity allows the system to suggest: *“If you like Ursynów, you’ll probably enjoy living in Mokotów or Wilanów.”*\n",
    "It’s a lightweight neural approach that captures the city’s behavioral geography through how people actually move."
   ],
   "id": "d8d3a06536fcdb7e"
  },
  {
   "metadata": {
    "collapsed": true,
    "ExecuteTime": {
     "end_time": "2025-10-24T23:41:10.685601Z",
     "start_time": "2025-10-24T23:41:10.681690Z"
    }
   },
   "cell_type": "code",
   "outputs": [],
   "execution_count": 3,
   "source": [
    "import pandas as pd\n",
    "import numpy as np\n",
    "from gensim.models import Word2Vec\n",
    "from gensim.models.keyedvectors import KeyedVectors\n",
    "from unidecode import unidecode"
   ],
   "id": "6624548f14ac2291"
  },
  {
   "metadata": {
    "ExecuteTime": {
     "end_time": "2025-10-24T23:41:42.719230Z",
     "start_time": "2025-10-24T23:41:42.701986Z"
    }
   },
   "cell_type": "code",
   "source": [
    "df = pd.read_csv(\"./data/hackplay_warszawa_with_districts.csv\", usecols=[\"user_id\",\"district\",\"start_dttm\"])\n",
    "df[\"start_dttm\"] = pd.to_datetime(df[\"start_dttm\"], errors=\"coerce\")\n",
    "df = df.dropna(subset=[\"start_dttm\",\"district\",\"user_id\"]).sort_values([\"user_id\",\"start_dttm\"])"
   ],
   "id": "3a24ac97b4a7e69f",
   "outputs": [],
   "execution_count": 4
  },
  {
   "metadata": {
    "ExecuteTime": {
     "end_time": "2025-10-24T23:41:47.163371Z",
     "start_time": "2025-10-24T23:41:47.156093Z"
    }
   },
   "cell_type": "code",
   "source": [
    "def norm(s): return unidecode(str(s).strip().lower().replace(\" \", \"_\"))\n",
    "df[\"district_tok\"] = df[\"district\"].map(norm)"
   ],
   "id": "505643b6708c62c6",
   "outputs": [],
   "execution_count": 5
  },
  {
   "metadata": {
    "ExecuteTime": {
     "end_time": "2025-10-24T23:41:53.179501Z",
     "start_time": "2025-10-24T23:41:53.174493Z"
    }
   },
   "cell_type": "code",
   "source": [
    "df[\"prev_district\"] = df.groupby(\"user_id\")[\"district_tok\"].shift(1)\n",
    "df = df[df[\"district_tok\"] != df[\"prev_district\"]].drop(columns=\"prev_district\")"
   ],
   "id": "ddd9ed3b3cd230de",
   "outputs": [],
   "execution_count": 6
  },
  {
   "metadata": {
    "ExecuteTime": {
     "end_time": "2025-10-24T23:42:07.085658Z",
     "start_time": "2025-10-24T23:42:07.082Z"
    }
   },
   "cell_type": "code",
   "source": "sequences = df.groupby(\"user_id\")[\"district_tok\"].apply(list).tolist()",
   "id": "2df076480ed28b8a",
   "outputs": [],
   "execution_count": 10
  },
  {
   "metadata": {
    "ExecuteTime": {
     "end_time": "2025-10-24T23:42:05.213872Z",
     "start_time": "2025-10-24T23:42:05.211576Z"
    }
   },
   "cell_type": "code",
   "source": "sequences = [seq for seq in sequences if len(seq) >= 2]",
   "id": "c0a3fe7ad69b1a4b",
   "outputs": [],
   "execution_count": 9
  },
  {
   "metadata": {
    "ExecuteTime": {
     "end_time": "2025-10-24T23:42:21.135384Z",
     "start_time": "2025-10-24T23:42:21.083329Z"
    }
   },
   "cell_type": "code",
   "source": [
    "model = Word2Vec(\n",
    "    sentences=sequences,\n",
    "    vector_size=16,\n",
    "    window=3,\n",
    "    min_count=1,\n",
    "    sg=1,\n",
    "    negative=10,\n",
    "    epochs=80,\n",
    "    seed=42,\n",
    "    workers=4\n",
    ")\n",
    "wv: KeyedVectors = model.wv\n",
    "district_vocab = sorted(wv.key_to_index.keys())\n"
   ],
   "id": "9ae6e21ef60fd9c",
   "outputs": [],
   "execution_count": 12
  },
  {
   "metadata": {
    "ExecuteTime": {
     "end_time": "2025-10-24T23:42:28.841259Z",
     "start_time": "2025-10-24T23:42:28.838723Z"
    }
   },
   "cell_type": "code",
   "source": [
    "def recommend_districts(district_name: str, topn: int = 5):\n",
    "    key = norm(district_name)\n",
    "    if key not in wv:\n",
    "        raise ValueError(f\"Unknown district token: {district_name} -> {key}\")\n",
    "    sim = wv.most_similar(key, topn=topn)\n",
    "    # pretty print with original-looking names\n",
    "    def prettify(tok): return tok.replace(\"_\", \" \").title()\n",
    "    return [(prettify(t), round(score, 3)) for t, score in sim]"
   ],
   "id": "cbfd9c7fd0f59635",
   "outputs": [],
   "execution_count": 13
  },
  {
   "metadata": {
    "ExecuteTime": {
     "end_time": "2025-10-24T23:43:15.905311Z",
     "start_time": "2025-10-24T23:43:15.902939Z"
    }
   },
   "cell_type": "code",
   "source": "print(\"Similar to 'Ursynów':\", recommend_districts(\"Ursynow\"))\n",
   "id": "86e1f39407fc1884",
   "outputs": [
    {
     "name": "stdout",
     "output_type": "stream",
     "text": [
      "Similar to 'Ursynów': [('Praga Polnoc', 0.914), ('Praga Poludnie', 0.893), ('Mokotow', 0.851), ('Wawer', 0.823), ('Rembertow', 0.8)]\n"
     ]
    }
   ],
   "execution_count": 18
  },
  {
   "metadata": {
    "ExecuteTime": {
     "end_time": "2025-10-24T23:43:30.857927Z",
     "start_time": "2025-10-24T23:43:30.854389Z"
    }
   },
   "cell_type": "code",
   "source": [
    "emb = np.vstack([wv[t] for t in district_vocab])\n",
    "emb_df = pd.DataFrame(emb, columns=[f\"emb_{i}\" for i in range(emb.shape[1])])\n",
    "emb_df.insert(0, \"district_tok\", district_vocab)"
   ],
   "id": "479ea1968ee7421c",
   "outputs": [],
   "execution_count": 19
  },
  {
   "metadata": {
    "ExecuteTime": {
     "end_time": "2025-10-24T23:43:38.899330Z",
     "start_time": "2025-10-24T23:43:38.891818Z"
    }
   },
   "cell_type": "code",
   "source": [
    "emb_df[\"district\"] = emb_df[\"district_tok\"].str.replace(\"_\",\" \").str.title()\n",
    "emb_df.to_csv(\"./data/district_embeddings.csv\", index=False)\n"
   ],
   "id": "ac0666c9c869c188",
   "outputs": [],
   "execution_count": 20
  },
  {
   "metadata": {
    "ExecuteTime": {
     "end_time": "2025-10-24T23:43:58.900612Z",
     "start_time": "2025-10-24T23:43:58.894540Z"
    }
   },
   "cell_type": "code",
   "source": [
    "sim_mat = np.zeros((len(district_vocab), len(district_vocab)))\n",
    "for i, a in enumerate(district_vocab):\n",
    "    for j, b in enumerate(district_vocab):\n",
    "        sim_mat[i, j] = wv.similarity(a, b)\n",
    "sim_df = pd.DataFrame(sim_mat, index=district_vocab, columns=district_vocab)\n",
    "sim_df.to_csv(\"./data/district_similarity_matrix.csv\")"
   ],
   "id": "d8e2c832f3fed2d9",
   "outputs": [],
   "execution_count": 21
  },
  {
   "metadata": {},
   "cell_type": "code",
   "outputs": [],
   "execution_count": null,
   "source": "",
   "id": "1691e6edf65d31"
  }
 ],
 "metadata": {
  "kernelspec": {
   "display_name": "Python 3",
   "language": "python",
   "name": "python3"
  },
  "language_info": {
   "codemirror_mode": {
    "name": "ipython",
    "version": 2
   },
   "file_extension": ".py",
   "mimetype": "text/x-python",
   "name": "python",
   "nbconvert_exporter": "python",
   "pygments_lexer": "ipython2",
   "version": "2.7.6"
  }
 },
 "nbformat": 4,
 "nbformat_minor": 5
}
