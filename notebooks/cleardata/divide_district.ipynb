{
 "cells": [
  {
   "cell_type": "code",
   "id": "initial_id",
   "metadata": {
    "collapsed": true,
    "ExecuteTime": {
     "end_time": "2025-10-24T20:37:50.943283Z",
     "start_time": "2025-10-24T20:37:50.471828Z"
    }
   },
   "source": [
    "import pandas as pd\n",
    "import geopandas as gpd\n",
    "from shapely.geometry import Point\n",
    "import glob, os, re"
   ],
   "outputs": [],
   "execution_count": 1
  },
  {
   "metadata": {
    "ExecuteTime": {
     "end_time": "2025-10-24T20:38:37.936457Z",
     "start_time": "2025-10-24T20:38:37.928460Z"
    }
   },
   "cell_type": "code",
   "source": "df = pd.read_csv(\"./data/hackplay_warszawa_full.csv\")",
   "id": "8656f6267f943818",
   "outputs": [],
   "execution_count": 4
  },
  {
   "metadata": {
    "ExecuteTime": {
     "end_time": "2025-10-24T20:38:46.345223Z",
     "start_time": "2025-10-24T20:38:46.336240Z"
    }
   },
   "cell_type": "code",
   "source": [
    "cells_unique = (\n",
    "    df[[\"cell_rk\", \"cell_lon\", \"cell_lat\"]]\n",
    "    .drop_duplicates(\"cell_rk\")\n",
    "    .reset_index(drop=True)\n",
    ")\n",
    "gdf_cells = gpd.GeoDataFrame(\n",
    "    cells_unique,\n",
    "    geometry=gpd.points_from_xy(cells_unique[\"cell_lon\"], cells_unique[\"cell_lat\"]),\n",
    "    crs=\"EPSG:4326\",\n",
    ")"
   ],
   "id": "f5058d9114bd8649",
   "outputs": [],
   "execution_count": 5
  },
  {
   "metadata": {
    "ExecuteTime": {
     "end_time": "2025-10-24T20:43:32.969768Z",
     "start_time": "2025-10-24T20:43:32.832801Z"
    }
   },
   "cell_type": "code",
   "source": [
    "district_files = sorted(glob.glob(\"./data/dzielnice/*.geojson\"))\n",
    "gdf_districts_list = []\n",
    "for path in district_files:\n",
    "    g = gpd.read_file(path)\n",
    "    name = os.path.splitext(os.path.basename(path))[0]\n",
    "    if g.crs is None:\n",
    "        g.set_crs(\"EPSG:4326\", inplace=True)\n",
    "    else:\n",
    "        g = g.to_crs(\"EPSG:4326\")\n",
    "    g[\"district\"] = name\n",
    "    g = g.dissolve(by=\"district\", as_index=False)\n",
    "    gdf_districts_list.append(g)\n",
    "\n",
    "gdf_districts = pd.concat(gdf_districts_list, ignore_index=True)\n",
    "gdf_districts = gpd.GeoDataFrame(gdf_districts, geometry=\"geometry\", crs=\"EPSG:4326\")"
   ],
   "id": "8b50f8361df6d68",
   "outputs": [],
   "execution_count": 6
  },
  {
   "metadata": {
    "ExecuteTime": {
     "end_time": "2025-10-24T20:43:51.919291Z",
     "start_time": "2025-10-24T20:43:51.910603Z"
    }
   },
   "cell_type": "code",
   "source": [
    "joined = gpd.sjoin(gdf_cells, gdf_districts[[\"district\", \"geometry\"]], predicate=\"within\", how=\"left\")\n",
    "cell_to_district = dict(zip(joined[\"cell_rk\"], joined[\"district\"]))"
   ],
   "id": "6098f9d2374a6c5c",
   "outputs": [],
   "execution_count": 7
  },
  {
   "metadata": {
    "ExecuteTime": {
     "end_time": "2025-10-24T20:43:57.057545Z",
     "start_time": "2025-10-24T20:43:57.054997Z"
    }
   },
   "cell_type": "code",
   "source": "df[\"district\"] = df[\"cell_rk\"].map(cell_to_district)\n",
   "id": "1840f9689fc9955a",
   "outputs": [],
   "execution_count": 8
  },
  {
   "metadata": {
    "ExecuteTime": {
     "end_time": "2025-10-24T20:44:51.565580Z",
     "start_time": "2025-10-24T20:44:51.559593Z"
    }
   },
   "cell_type": "code",
   "source": "df['district'].info()",
   "id": "4e9c9392e06ded70",
   "outputs": [
    {
     "name": "stdout",
     "output_type": "stream",
     "text": [
      "<class 'pandas.core.series.Series'>\n",
      "RangeIndex: 3080 entries, 0 to 3079\n",
      "Series name: district\n",
      "Non-Null Count  Dtype \n",
      "--------------  ----- \n",
      "3080 non-null   object\n",
      "dtypes: object(1)\n",
      "memory usage: 24.2+ KB\n"
     ]
    }
   ],
   "execution_count": 11
  },
  {
   "metadata": {
    "ExecuteTime": {
     "end_time": "2025-10-24T20:45:47.131931Z",
     "start_time": "2025-10-24T20:45:47.103150Z"
    }
   },
   "cell_type": "code",
   "source": "df.to_csv(\"./data/hackplay_warszawa_with_districts.csv\", index=False)",
   "id": "13afa866ce35fb1e",
   "outputs": [],
   "execution_count": 14
  },
  {
   "metadata": {
    "ExecuteTime": {
     "end_time": "2025-10-24T20:49:29.817809Z",
     "start_time": "2025-10-24T20:49:29.798756Z"
    }
   },
   "cell_type": "code",
   "source": "df.info()",
   "id": "7dd287ccf0180c35",
   "outputs": [
    {
     "name": "stdout",
     "output_type": "stream",
     "text": [
      "<class 'pandas.core.frame.DataFrame'>\n",
      "RangeIndex: 3080 entries, 0 to 3079\n",
      "Data columns (total 13 columns):\n",
      " #   Column         Non-Null Count  Dtype  \n",
      "---  ------         --------------  -----  \n",
      " 0   start_dttm     3079 non-null   object \n",
      " 1   user_id        3080 non-null   object \n",
      " 2   cell_rk        3080 non-null   int64  \n",
      " 3   lac            3000 non-null   float64\n",
      " 4   cid            3080 non-null   float64\n",
      " 5   technology     3080 non-null   object \n",
      " 6   frequency      2986 non-null   float64\n",
      " 7   cell_lon       3080 non-null   float64\n",
      " 8   cell_lat       3080 non-null   float64\n",
      " 9   cos_rk         3080 non-null   int64  \n",
      " 10  cos_nm         3080 non-null   object \n",
      " 11  cos_family_nm  3080 non-null   object \n",
      " 12  district       3080 non-null   object \n",
      "dtypes: float64(5), int64(2), object(6)\n",
      "memory usage: 312.9+ KB\n"
     ]
    }
   ],
   "execution_count": 15
  },
  {
   "metadata": {},
   "cell_type": "code",
   "outputs": [],
   "execution_count": null,
   "source": "",
   "id": "11d66c5d01027118"
  }
 ],
 "metadata": {
  "kernelspec": {
   "display_name": "Python 3",
   "language": "python",
   "name": "python3"
  },
  "language_info": {
   "codemirror_mode": {
    "name": "ipython",
    "version": 2
   },
   "file_extension": ".py",
   "mimetype": "text/x-python",
   "name": "python",
   "nbconvert_exporter": "python",
   "pygments_lexer": "ipython2",
   "version": "2.7.6"
  }
 },
 "nbformat": 4,
 "nbformat_minor": 5
}
