{
 "cells": [
  {
   "cell_type": "code",
   "id": "initial_id",
   "metadata": {
    "collapsed": true,
    "ExecuteTime": {
     "end_time": "2025-10-24T20:10:46.926716Z",
     "start_time": "2025-10-24T20:10:46.706948Z"
    }
   },
   "source": [
    "import pandas as pd\n",
    "import glob\n"
   ],
   "outputs": [],
   "execution_count": 1
  },
  {
   "metadata": {
    "ExecuteTime": {
     "end_time": "2025-10-24T20:14:45.278180Z",
     "start_time": "2025-10-24T20:14:45.251306Z"
    }
   },
   "cell_type": "code",
   "source": [
    "chunksize = 500_000\n",
    "out_csv = \"./data/warszawa_cell_rks.csv\"\n",
    "warszawa_cell_rks = set(pd.read_csv(\"./data/warszawa_cell_rks.csv\")[\"cell_rk\"])\n"
   ],
   "id": "28793597039c5f67",
   "outputs": [],
   "execution_count": 2
  },
  {
   "metadata": {
    "ExecuteTime": {
     "end_time": "2025-10-24T20:15:55.039017Z",
     "start_time": "2025-10-24T20:15:54.363828Z"
    }
   },
   "cell_type": "code",
   "source": [
    "cells = pd.read_csv(\"./data/hackplay_cells.gz\")\n",
    "cells_wawa = cells[cells[\"cell_rk\"].isin(warszawa_cell_rks)]\n",
    "cos = pd.read_csv(\"./data/hackplay_cos.gz\")"
   ],
   "id": "24863c3879ab5c91",
   "outputs": [],
   "execution_count": 4
  },
  {
   "metadata": {
    "ExecuteTime": {
     "end_time": "2025-10-24T20:17:33.029246Z",
     "start_time": "2025-10-24T20:17:33.026416Z"
    }
   },
   "cell_type": "code",
   "source": [
    "files = sorted([\n",
    "    *glob.glob(\"./data/user_locations_hackplay.gz\"),\n",
    "])"
   ],
   "id": "22a1b73f526656c6",
   "outputs": [],
   "execution_count": 9
  },
  {
   "metadata": {
    "ExecuteTime": {
     "end_time": "2025-10-24T20:17:34.741098Z",
     "start_time": "2025-10-24T20:17:34.738569Z"
    }
   },
   "cell_type": "code",
   "source": [
    "first_chunk = True\n",
    "usecols = [\"start_dttm\", \"cell_rk\", \"cos_rk\", \"user_id\"]"
   ],
   "id": "423a4c2214209793",
   "outputs": [],
   "execution_count": 10
  },
  {
   "metadata": {
    "ExecuteTime": {
     "end_time": "2025-10-24T20:25:35.228332Z",
     "start_time": "2025-10-24T20:17:35.294936Z"
    }
   },
   "cell_type": "code",
   "source": [
    "for f in files:\n",
    "    for chunk in pd.read_csv(\n",
    "        f,\n",
    "        chunksize=chunksize,\n",
    "        usecols=usecols,\n",
    "        dtype={\"cell_rk\": \"int64\", \"cos_rk\": \"int64\", \"user_id\": \"string\"},\n",
    "        parse_dates=[\"start_dttm\"],\n",
    "    ):\n",
    "        chunk = chunk[chunk[\"cell_rk\"].isin(warszawa_cell_rks)]\n",
    "        if chunk.empty:\n",
    "            continue\n",
    "\n",
    "        merged = (\n",
    "            chunk\n",
    "            .merge(cells_wawa, on=\"cell_rk\", how=\"left\")\n",
    "            .merge(cos, on=\"cos_rk\", how=\"left\")\n",
    "        )\n",
    "\n",
    "        wanted = [\n",
    "            \"start_dttm\", \"user_id\",\n",
    "            \"cell_rk\", \"lac\", \"cid\", \"technology\", \"frequency\", \"cell_lon\", \"cell_lat\",\n",
    "            \"cos_rk\", \"cos_nm\", \"cos_family_nm\",\n",
    "        ]\n",
    "        merged = merged[[c for c in wanted if c in merged.columns]]\n",
    "\n",
    "        merged.to_csv(out_csv, index=False, mode=\"w\" if first_chunk else \"a\", header=first_chunk)\n",
    "        first_chunk = False"
   ],
   "id": "9d571e373f173978",
   "outputs": [
    {
     "name": "stderr",
     "output_type": "stream",
     "text": [
      "/var/folders/55/9xvhvhsj1cbf537pzbxyr4ww0000gn/T/ipykernel_56271/3635643216.py:2: UserWarning: Could not infer format, so each element will be parsed individually, falling back to `dateutil`. To ensure parsing is consistent and as-expected, please specify a format.\n",
      "  for chunk in pd.read_csv(\n",
      "/var/folders/55/9xvhvhsj1cbf537pzbxyr4ww0000gn/T/ipykernel_56271/3635643216.py:2: UserWarning: Could not infer format, so each element will be parsed individually, falling back to `dateutil`. To ensure parsing is consistent and as-expected, please specify a format.\n",
      "  for chunk in pd.read_csv(\n",
      "/var/folders/55/9xvhvhsj1cbf537pzbxyr4ww0000gn/T/ipykernel_56271/3635643216.py:2: UserWarning: Could not infer format, so each element will be parsed individually, falling back to `dateutil`. To ensure parsing is consistent and as-expected, please specify a format.\n",
      "  for chunk in pd.read_csv(\n"
     ]
    }
   ],
   "execution_count": 11
  },
  {
   "metadata": {
    "ExecuteTime": {
     "end_time": "2025-10-24T20:27:26.499550Z",
     "start_time": "2025-10-24T20:27:26.478909Z"
    }
   },
   "cell_type": "code",
   "source": "merged.to_csv(\"./data/hackplay_warszawa_full.csv\", index=False)",
   "id": "75514f4cd1049cd9",
   "outputs": [],
   "execution_count": 16
  },
  {
   "metadata": {
    "ExecuteTime": {
     "end_time": "2025-10-24T20:27:57.925198Z",
     "start_time": "2025-10-24T20:27:57.914269Z"
    }
   },
   "cell_type": "code",
   "source": "pd_clean = pd.read_csv(\"./data/hackplay_warszawa_full.csv\", parse_dates=[\"start_dttm\"])",
   "id": "4319f8d504607f13",
   "outputs": [],
   "execution_count": 17
  },
  {
   "metadata": {
    "ExecuteTime": {
     "end_time": "2025-10-24T20:28:03.316644Z",
     "start_time": "2025-10-24T20:28:03.308277Z"
    }
   },
   "cell_type": "code",
   "source": "pd_clean.info()",
   "id": "4b8df10f6e48e65",
   "outputs": [
    {
     "name": "stdout",
     "output_type": "stream",
     "text": [
      "<class 'pandas.core.frame.DataFrame'>\n",
      "RangeIndex: 3080 entries, 0 to 3079\n",
      "Data columns (total 12 columns):\n",
      " #   Column         Non-Null Count  Dtype         \n",
      "---  ------         --------------  -----         \n",
      " 0   start_dttm     3079 non-null   datetime64[ns]\n",
      " 1   user_id        3080 non-null   object        \n",
      " 2   cell_rk        3080 non-null   int64         \n",
      " 3   lac            3000 non-null   float64       \n",
      " 4   cid            3080 non-null   float64       \n",
      " 5   technology     3080 non-null   object        \n",
      " 6   frequency      2986 non-null   float64       \n",
      " 7   cell_lon       3080 non-null   float64       \n",
      " 8   cell_lat       3080 non-null   float64       \n",
      " 9   cos_rk         3080 non-null   int64         \n",
      " 10  cos_nm         3080 non-null   object        \n",
      " 11  cos_family_nm  3080 non-null   object        \n",
      "dtypes: datetime64[ns](1), float64(5), int64(2), object(4)\n",
      "memory usage: 288.9+ KB\n"
     ]
    }
   ],
   "execution_count": 18
  },
  {
   "metadata": {},
   "cell_type": "code",
   "outputs": [],
   "execution_count": null,
   "source": "",
   "id": "c74c3d4eeabbe29c"
  }
 ],
 "metadata": {
  "kernelspec": {
   "display_name": "Python 3",
   "language": "python",
   "name": "python3"
  },
  "language_info": {
   "codemirror_mode": {
    "name": "ipython",
    "version": 2
   },
   "file_extension": ".py",
   "mimetype": "text/x-python",
   "name": "python",
   "nbconvert_exporter": "python",
   "pygments_lexer": "ipython2",
   "version": "2.7.6"
  }
 },
 "nbformat": 4,
 "nbformat_minor": 5
}
