{
 "cells": [
  {
   "cell_type": "code",
   "id": "initial_id",
   "metadata": {
    "collapsed": true,
    "ExecuteTime": {
     "end_time": "2025-10-24T19:47:53.488768Z",
     "start_time": "2025-10-24T19:47:53.362314Z"
    }
   },
   "source": [
    "import geopandas as gpd\n",
    "import pandas as pd\n",
    "from shapely.geometry import Point"
   ],
   "outputs": [],
   "execution_count": 4
  },
  {
   "metadata": {
    "ExecuteTime": {
     "end_time": "2025-10-24T19:43:32.741471Z",
     "start_time": "2025-10-24T19:43:32.082014Z"
    }
   },
   "cell_type": "code",
   "source": [
    "\n",
    "chunksize = 1_000_000\n",
    "cells = pd.read_csv(\"./data/hackplay_cells.gz\")\n",
    "cos = pd.read_csv(\"./data/hackplay_cos.gz\")"
   ],
   "id": "94b0b3cb09cc6cb5",
   "outputs": [],
   "execution_count": 2
  },
  {
   "metadata": {
    "ExecuteTime": {
     "end_time": "2025-10-24T19:48:24.202053Z",
     "start_time": "2025-10-24T19:48:18.495775Z"
    }
   },
   "cell_type": "code",
   "source": [
    "gdf_cells = gpd.GeoDataFrame(\n",
    "    cells,\n",
    "    geometry=[Point(xy) for xy in zip(cells[\"cell_lon\"], cells[\"cell_lat\"])],\n",
    "    crs=\"EPSG:4326\"\n",
    ")"
   ],
   "id": "fb9d55d277203fff",
   "outputs": [],
   "execution_count": 5
  },
  {
   "metadata": {
    "ExecuteTime": {
     "end_time": "2025-10-24T19:49:31.806913Z",
     "start_time": "2025-10-24T19:49:31.286184Z"
    }
   },
   "cell_type": "code",
   "source": "warszawa = gpd.read_file(\"https://raw.githubusercontent.com/andilabs/warszawa-dzielnice-geojson/master/warszawa-dzielnice.geojson\")\n",
   "id": "36b0cf35542c8066",
   "outputs": [],
   "execution_count": 7
  },
  {
   "metadata": {
    "ExecuteTime": {
     "end_time": "2025-10-24T19:50:25.360800Z",
     "start_time": "2025-10-24T19:50:25.024446Z"
    }
   },
   "cell_type": "code",
   "source": [
    "warszawa_union = warszawa.union_all()\n",
    "cells_warszawa = gdf_cells[gdf_cells.within(warszawa_union)]"
   ],
   "id": "71b0c6f565821318",
   "outputs": [],
   "execution_count": 9
  },
  {
   "metadata": {
    "ExecuteTime": {
     "end_time": "2025-10-24T19:50:51.340488Z",
     "start_time": "2025-10-24T19:50:51.293270Z"
    }
   },
   "cell_type": "code",
   "source": "cells_warszawa[[\"cell_rk\"]].to_csv(\"./data/warszawa_cell_rks.csv\", index=False)",
   "id": "865228fae92db133",
   "outputs": [],
   "execution_count": 10
  },
  {
   "metadata": {
    "ExecuteTime": {
     "end_time": "2025-10-24T19:51:22.051481Z",
     "start_time": "2025-10-24T19:51:22.048473Z"
    }
   },
   "cell_type": "code",
   "source": "",
   "id": "b44a67b2b36b7af",
   "outputs": [
    {
     "data": {
      "text/plain": [
       "140420"
      ]
     },
     "execution_count": 12,
     "metadata": {},
     "output_type": "execute_result"
    }
   ],
   "execution_count": 12
  },
  {
   "metadata": {},
   "cell_type": "code",
   "outputs": [],
   "execution_count": null,
   "source": "",
   "id": "eb2bb203319ddac3"
  }
 ],
 "metadata": {
  "kernelspec": {
   "display_name": "Python 3",
   "language": "python",
   "name": "python3"
  },
  "language_info": {
   "codemirror_mode": {
    "name": "ipython",
    "version": 2
   },
   "file_extension": ".py",
   "mimetype": "text/x-python",
   "name": "python",
   "nbconvert_exporter": "python",
   "pygments_lexer": "ipython2",
   "version": "2.7.6"
  }
 },
 "nbformat": 4,
 "nbformat_minor": 5
}
