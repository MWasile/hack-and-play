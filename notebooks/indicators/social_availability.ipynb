{
 "cells": [
  {
   "metadata": {
    "collapsed": true
   },
   "cell_type": "markdown",
   "source": [
    "### Social Availability Index\n",
    "\n",
    "The **Social Availability Index** shows how long and evenly each district stays active throughout the day.\n",
    "It measures the diversity of human presence over time — districts with activity spread across many hours score higher, reflecting continuous social availability.\n",
    "High scores represent lively, all-day neighborhoods, while lower ones indicate areas that “sleep” outside peak hours.\n",
    "This index captures the temporal rhythm of social life across the city."
   ],
   "id": "aa54ecb0dbe147b9"
  },
  {
   "metadata": {
    "ExecuteTime": {
     "end_time": "2025-10-24T22:38:52.967105Z",
     "start_time": "2025-10-24T22:38:52.747587Z"
    }
   },
   "cell_type": "code",
   "source": [
    "import pandas as pd\n",
    "import numpy as np"
   ],
   "id": "12373c083ae36381",
   "outputs": [],
   "execution_count": 1
  },
  {
   "metadata": {
    "ExecuteTime": {
     "end_time": "2025-10-24T22:39:22.196401Z",
     "start_time": "2025-10-24T22:39:22.182922Z"
    }
   },
   "cell_type": "code",
   "source": "df = pd.read_csv(\"./data/hackplay_warszawa_with_districts.csv\")",
   "id": "f6f1c0f6746fbe97",
   "outputs": [],
   "execution_count": 2
  },
  {
   "metadata": {
    "ExecuteTime": {
     "end_time": "2025-10-24T22:40:06.873917Z",
     "start_time": "2025-10-24T22:40:06.864418Z"
    }
   },
   "cell_type": "code",
   "source": [
    "df[\"start_dttm\"] = pd.to_datetime(df[\"start_dttm\"], errors=\"coerce\")\n",
    "df[\"hour\"] = df[\"start_dttm\"].dt.hour"
   ],
   "id": "d0ee8dfe2b1a4bec",
   "outputs": [],
   "execution_count": 4
  },
  {
   "metadata": {
    "ExecuteTime": {
     "end_time": "2025-10-24T22:40:07.898144Z",
     "start_time": "2025-10-24T22:40:07.890387Z"
    }
   },
   "cell_type": "code",
   "source": [
    "hourly = (\n",
    "    df.groupby([\"district\", \"hour\"], as_index=False)[\"user_id\"]\n",
    "      .nunique()\n",
    "      .rename(columns={\"user_id\": \"unique_users\"})\n",
    ")"
   ],
   "id": "bdadbcab241a28f0",
   "outputs": [],
   "execution_count": 5
  },
  {
   "metadata": {
    "ExecuteTime": {
     "end_time": "2025-10-24T22:40:21.296828Z",
     "start_time": "2025-10-24T22:40:21.288671Z"
    }
   },
   "cell_type": "code",
   "source": [
    "hourly[\"norm_activity\"] = (\n",
    "    hourly.groupby(\"district\")[\"unique_users\"]\n",
    "          .transform(lambda x: x / x.max() if x.max() > 0 else 0)\n",
    ")"
   ],
   "id": "7c9f8b8dae554cf6",
   "outputs": [],
   "execution_count": 7
  },
  {
   "metadata": {
    "ExecuteTime": {
     "end_time": "2025-10-24T22:40:27.093564Z",
     "start_time": "2025-10-24T22:40:27.089141Z"
    }
   },
   "cell_type": "code",
   "source": [
    "threshold = 0.3\n",
    "active_hours = (\n",
    "    hourly.groupby(\"district\")[\"norm_activity\"]\n",
    "          .apply(lambda x: (x > threshold).sum())\n",
    "          .reset_index(name=\"active_hours\")\n",
    ")"
   ],
   "id": "39df43cf8c967ef4",
   "outputs": [],
   "execution_count": 8
  },
  {
   "metadata": {
    "ExecuteTime": {
     "end_time": "2025-10-24T22:40:33.265850Z",
     "start_time": "2025-10-24T22:40:33.263214Z"
    }
   },
   "cell_type": "code",
   "source": [
    "vals = active_hours[\"active_hours\"]\n",
    "active_hours[\"social_availability_score\"] = ((vals - vals.min()) / (vals.max() - vals.min()) * 100).round(1)"
   ],
   "id": "835542ead233e102",
   "outputs": [],
   "execution_count": 9
  },
  {
   "metadata": {
    "ExecuteTime": {
     "end_time": "2025-10-24T22:41:02.673125Z",
     "start_time": "2025-10-24T22:41:02.670275Z"
    }
   },
   "cell_type": "code",
   "source": [
    "active_hours = active_hours.sort_values(\"social_availability_score\", ascending=False)\n",
    "active_hours.head()\n",
    "active_hours.to_csv(\"./data/warsaw_social_availability.csv\", index=False)"
   ],
   "id": "ef8cc70e97cb21be",
   "outputs": [],
   "execution_count": 12
  },
  {
   "metadata": {},
   "cell_type": "code",
   "outputs": [],
   "execution_count": null,
   "source": "",
   "id": "68824ad5e5790264"
  }
 ],
 "metadata": {
  "kernelspec": {
   "display_name": "Python 3",
   "language": "python",
   "name": "python3"
  },
  "language_info": {
   "codemirror_mode": {
    "name": "ipython",
    "version": 2
   },
   "file_extension": ".py",
   "mimetype": "text/x-python",
   "name": "python",
   "nbconvert_exporter": "python",
   "pygments_lexer": "ipython2",
   "version": "2.7.6"
  }
 },
 "nbformat": 4,
 "nbformat_minor": 5
}
