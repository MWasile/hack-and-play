{
 "cells": [
  {
   "metadata": {
    "collapsed": true
   },
   "cell_type": "markdown",
   "source": [
    "###  District Rhythm Index\n",
    "\n",
    "The **District Rhythm Index** captures the daily heartbeat of each Warsaw district.\n",
    "It’s derived from the hourly patterns of anonymized user activity, showing how presence and movement vary throughout the day.\n",
    "Districts with strong fluctuations between morning, noon, and evening receive higher scores, reflecting dynamic, time-dependent urban life.\n",
    "This index reveals when each part of the city truly comes alive."
   ],
   "id": "9fd1d6cc869712b0"
  },
  {
   "metadata": {
    "ExecuteTime": {
     "end_time": "2025-10-24T21:35:47.562096Z",
     "start_time": "2025-10-24T21:35:47.300984Z"
    }
   },
   "cell_type": "code",
   "source": [
    "import pandas as pd\n",
    "import numpy as np"
   ],
   "id": "c345c6062bb7d689",
   "outputs": [],
   "execution_count": 1
  },
  {
   "metadata": {
    "ExecuteTime": {
     "end_time": "2025-10-24T21:36:31.370098Z",
     "start_time": "2025-10-24T21:36:31.348901Z"
    }
   },
   "cell_type": "code",
   "source": "df = pd.read_csv(\"./data/hackplay_warszawa_with_districts.csv\")",
   "id": "abe8a244746a9982",
   "outputs": [],
   "execution_count": 3
  },
  {
   "metadata": {
    "ExecuteTime": {
     "end_time": "2025-10-24T21:36:49.013554Z",
     "start_time": "2025-10-24T21:36:48.991592Z"
    }
   },
   "cell_type": "code",
   "source": [
    "df[\"start_dttm\"] = pd.to_datetime(df[\"start_dttm\"], errors=\"coerce\")\n",
    "df = df.dropna(subset=[\"start_dttm\"])\n",
    "df[\"hour\"] = df[\"start_dttm\"].dt.hour"
   ],
   "id": "f3fc1bbecc043b3e",
   "outputs": [],
   "execution_count": 4
  },
  {
   "metadata": {
    "ExecuteTime": {
     "end_time": "2025-10-24T21:36:53.518662Z",
     "start_time": "2025-10-24T21:36:53.510218Z"
    }
   },
   "cell_type": "code",
   "source": [
    "hourly = (\n",
    "    df.groupby([\"district\", \"hour\"], as_index=False)[\"user_id\"]\n",
    "      .nunique()\n",
    "      .rename(columns={\"user_id\": \"unique_users\"})\n",
    ")\n"
   ],
   "id": "24a014afec131d43",
   "outputs": [],
   "execution_count": 5
  },
  {
   "metadata": {
    "ExecuteTime": {
     "end_time": "2025-10-24T21:36:58.148372Z",
     "start_time": "2025-10-24T21:36:58.140993Z"
    }
   },
   "cell_type": "code",
   "source": [
    "hourly[\"activity_norm\"] = (\n",
    "    hourly.groupby(\"district\")[\"unique_users\"]\n",
    "    .transform(lambda x: (x - x.min()) / (x.max() - x.min() + 1e-9) * 100)\n",
    ")"
   ],
   "id": "6bf123680a841cfb",
   "outputs": [],
   "execution_count": 6
  },
  {
   "metadata": {
    "ExecuteTime": {
     "end_time": "2025-10-24T21:37:02.733812Z",
     "start_time": "2025-10-24T21:37:02.718992Z"
    }
   },
   "cell_type": "code",
   "source": [
    "rhythm = (\n",
    "    hourly.groupby(\"district\")\n",
    "    .agg(\n",
    "        peak_hour=(\"activity_norm\", lambda x: x.idxmax() % 24),\n",
    "        activity_amplitude=(\"activity_norm\", lambda x: x.max() - x.min()),\n",
    "        avg_activity=(\"activity_norm\", \"mean\"),\n",
    "    )\n",
    "    .reset_index()\n",
    ")"
   ],
   "id": "6dfbc5387b1c7836",
   "outputs": [],
   "execution_count": 7
  },
  {
   "metadata": {
    "ExecuteTime": {
     "end_time": "2025-10-24T21:37:07.132622Z",
     "start_time": "2025-10-24T21:37:07.129167Z"
    }
   },
   "cell_type": "code",
   "source": [
    "rhythm[\"rhythm_score\"] = (\n",
    "    0.5 * rhythm[\"activity_amplitude\"] + 0.5 * rhythm[\"avg_activity\"]\n",
    ").round(1)"
   ],
   "id": "c783784e716cc06",
   "outputs": [],
   "execution_count": 8
  },
  {
   "metadata": {
    "ExecuteTime": {
     "end_time": "2025-10-24T21:39:49.901588Z",
     "start_time": "2025-10-24T21:39:49.889777Z"
    }
   },
   "cell_type": "code",
   "source": [
    "rhythm = rhythm.sort_values(\"rhythm_score\", ascending=False)\n",
    "rhythm.to_csv(\"./data/warsaw_district_rhythm.csv\", index=False)"
   ],
   "id": "a853139c642be4e2",
   "outputs": [],
   "execution_count": 11
  },
  {
   "metadata": {},
   "cell_type": "code",
   "outputs": [],
   "execution_count": null,
   "source": "",
   "id": "e5a5a9c6946014e4"
  }
 ],
 "metadata": {
  "kernelspec": {
   "display_name": "Python 3",
   "language": "python",
   "name": "python3"
  },
  "language_info": {
   "codemirror_mode": {
    "name": "ipython",
    "version": 2
   },
   "file_extension": ".py",
   "mimetype": "text/x-python",
   "name": "python",
   "nbconvert_exporter": "python",
   "pygments_lexer": "ipython2",
   "version": "2.7.6"
  }
 },
 "nbformat": 4,
 "nbformat_minor": 5
}
