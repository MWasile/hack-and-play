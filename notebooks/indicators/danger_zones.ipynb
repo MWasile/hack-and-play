{
 "cells": [
  {
   "metadata": {
    "collapsed": true
   },
   "cell_type": "markdown",
   "source": [
    "### ️ Safety Index\n",
    "\n",
    "The **Safety Index** measures how secure each Warsaw district is based on the relative number of reported incidents.\n",
    "It’s derived from publicly available data on safety incidents published by the **Polish national Geoportal**.\n",
    "The index normalizes incident counts across districts, assigning higher scores to areas with fewer safety risks.\n",
    "Districts with lower incident volumes rank as safer and calmer, while those with higher concentrations of reports indicate busier, higher-risk urban zones.\n",
    "This indicator provides a spatial perspective on urban safety across Warsaw."
   ],
   "id": "1a14878a6a9132cf"
  },
  {
   "metadata": {
    "ExecuteTime": {
     "end_time": "2025-10-24T23:02:16.758628Z",
     "start_time": "2025-10-24T23:02:16.533122Z"
    }
   },
   "cell_type": "code",
   "source": "import pandas as pd",
   "id": "1e2f631b79456c1a",
   "outputs": [],
   "execution_count": 1
  },
  {
   "metadata": {
    "ExecuteTime": {
     "end_time": "2025-10-24T23:02:45.275777Z",
     "start_time": "2025-10-24T23:02:45.271943Z"
    }
   },
   "cell_type": "code",
   "source": "df = pd.read_csv(\"./data/danger_stat_from_geoportal.csv\")",
   "id": "79a754f5e09d0562",
   "outputs": [],
   "execution_count": 5
  },
  {
   "metadata": {
    "ExecuteTime": {
     "end_time": "2025-10-24T23:02:54.498721Z",
     "start_time": "2025-10-24T23:02:54.495582Z"
    }
   },
   "cell_type": "code",
   "source": [
    "df[\"incident_norm\"] = (\n",
    "    (df[\"incidents\"] - df[\"incidents\"].min()) /\n",
    "    (df[\"incidents\"].max() - df[\"incidents\"].min())\n",
    ")\n"
   ],
   "id": "d8775d739c96208b",
   "outputs": [],
   "execution_count": 6
  },
  {
   "metadata": {
    "ExecuteTime": {
     "end_time": "2025-10-24T23:02:58.260674Z",
     "start_time": "2025-10-24T23:02:58.256770Z"
    }
   },
   "cell_type": "code",
   "source": "df[\"safety_index\"] = ((1 - df[\"incident_norm\"]) * 100).round(1)\n",
   "id": "9cef054964d68ace",
   "outputs": [],
   "execution_count": 7
  },
  {
   "metadata": {
    "ExecuteTime": {
     "end_time": "2025-10-24T23:04:10.425918Z",
     "start_time": "2025-10-24T23:04:10.422976Z"
    }
   },
   "cell_type": "code",
   "source": [
    "bins = [0, 55, 85, 100]\n",
    "labels = [\"High risk\", \"Moderate\", \"Safe\"]\n",
    "df[\"safety_level\"] = pd.cut(df[\"safety_index\"], bins=bins, labels=labels, include_lowest=True)\n"
   ],
   "id": "c1d28103d0807ff1",
   "outputs": [],
   "execution_count": 18
  },
  {
   "metadata": {
    "ExecuteTime": {
     "end_time": "2025-10-24T23:04:11.293714Z",
     "start_time": "2025-10-24T23:04:11.291824Z"
    }
   },
   "cell_type": "code",
   "source": "df = df.sort_values(\"safety_index\", ascending=False).reset_index(drop=True)\n",
   "id": "6d39bb159561ed0f",
   "outputs": [],
   "execution_count": 19
  },
  {
   "metadata": {
    "ExecuteTime": {
     "end_time": "2025-10-24T23:04:29.480569Z",
     "start_time": "2025-10-24T23:04:29.472401Z"
    }
   },
   "cell_type": "code",
   "source": "df.to_csv(\"./data/warsaw_safety_index.csv\", index=False)\n",
   "id": "7de3d167bb0386b5",
   "outputs": [],
   "execution_count": 21
  },
  {
   "metadata": {},
   "cell_type": "code",
   "outputs": [],
   "execution_count": null,
   "source": "",
   "id": "6453b70eb63e70cb"
  }
 ],
 "metadata": {
  "kernelspec": {
   "display_name": "Python 3",
   "language": "python",
   "name": "python3"
  },
  "language_info": {
   "codemirror_mode": {
    "name": "ipython",
    "version": 2
   },
   "file_extension": ".py",
   "mimetype": "text/x-python",
   "name": "python",
   "nbconvert_exporter": "python",
   "pygments_lexer": "ipython2",
   "version": "2.7.6"
  }
 },
 "nbformat": 4,
 "nbformat_minor": 5
}
