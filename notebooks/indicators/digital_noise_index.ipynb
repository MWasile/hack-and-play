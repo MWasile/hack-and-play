{
 "cells": [
  {
   "metadata": {
    "collapsed": true
   },
   "cell_type": "markdown",
   "source": [
    "###  Digital Noise Index\n",
    "\n",
    "The **Digital Noise Index** reflects the intensity of network activity and data transmission across Warsaw’s districts.\n",
    "It combines the number of connected devices with the volume of observed network events, weighted by technology type (5G, 4G, etc.).\n",
    "Districts with higher scores show greater digital engagement — more active connections, higher data flow, and denser online presence.\n",
    "This index captures the “digital pulse” of the city, showing where the urban network hums the loudest."
   ],
   "id": "c252030b6a812b74"
  },
  {
   "metadata": {
    "ExecuteTime": {
     "end_time": "2025-10-24T22:24:12.619127Z",
     "start_time": "2025-10-24T22:24:12.414212Z"
    }
   },
   "cell_type": "code",
   "source": [
    "import pandas as pd\n",
    "import numpy as np"
   ],
   "id": "10c09d4fc1d12c10",
   "outputs": [],
   "execution_count": 1
  },
  {
   "metadata": {
    "ExecuteTime": {
     "end_time": "2025-10-24T22:24:27.346614Z",
     "start_time": "2025-10-24T22:24:27.334361Z"
    }
   },
   "cell_type": "code",
   "source": "df = pd.read_csv(\"./data/hackplay_warszawa_with_districts.csv\")",
   "id": "a481188fdd885159",
   "outputs": [],
   "execution_count": 2
  },
  {
   "metadata": {
    "ExecuteTime": {
     "end_time": "2025-10-24T22:24:32.380206Z",
     "start_time": "2025-10-24T22:24:32.376566Z"
    }
   },
   "cell_type": "code",
   "source": [
    "tech_weight = {\"5G\": 1.3, \"4G\": 1.0, \"3G\": 0.6, \"2G\": 0.3}\n",
    "df[\"tech_weight\"] = df[\"technology\"].map(tech_weight).fillna(1.0)"
   ],
   "id": "beca903880dcf9f",
   "outputs": [],
   "execution_count": 3
  },
  {
   "metadata": {
    "ExecuteTime": {
     "end_time": "2025-10-24T22:24:37.681991Z",
     "start_time": "2025-10-24T22:24:37.676037Z"
    }
   },
   "cell_type": "code",
   "source": [
    "agg = (\n",
    "    df.groupby(\"district\", as_index=False)\n",
    "      .agg(\n",
    "          total_obs=(\"user_id\", \"count\"),\n",
    "          unique_users=(\"user_id\", \"nunique\"),\n",
    "          avg_tech_weight=(\"tech_weight\", \"mean\"),\n",
    "      )\n",
    ")\n"
   ],
   "id": "63433cbcb3e761b4",
   "outputs": [],
   "execution_count": 4
  },
  {
   "metadata": {
    "ExecuteTime": {
     "end_time": "2025-10-24T22:24:42.899270Z",
     "start_time": "2025-10-24T22:24:42.897042Z"
    }
   },
   "cell_type": "code",
   "source": "agg[\"noise_index_raw\"] = (agg[\"total_obs\"] / agg[\"unique_users\"]) * agg[\"avg_tech_weight\"]\n",
   "id": "bd1f5e02cc7ff0c0",
   "outputs": [],
   "execution_count": 5
  },
  {
   "metadata": {
    "ExecuteTime": {
     "end_time": "2025-10-24T22:24:49.505061Z",
     "start_time": "2025-10-24T22:24:49.500762Z"
    }
   },
   "cell_type": "code",
   "source": [
    "vals = agg[\"noise_index_raw\"]\n",
    "agg[\"digital_noise_score\"] = ((vals - vals.min()) / (vals.max() - vals.min()) * 100).round(1)"
   ],
   "id": "5f4e2e81f2edfa1a",
   "outputs": [],
   "execution_count": 6
  },
  {
   "metadata": {
    "ExecuteTime": {
     "end_time": "2025-10-24T22:25:38.762947Z",
     "start_time": "2025-10-24T22:25:38.753752Z"
    }
   },
   "cell_type": "code",
   "source": [
    "agg = agg.sort_values(\"digital_noise_score\", ascending=False).reset_index(drop=True)\n",
    "agg.to_csv(\"./data/warsaw_digital_noise.csv\", index=False)\n",
    "\n",
    "print(agg[[\"district\", \"total_obs\", \"unique_users\", \"avg_tech_weight\", \"digital_noise_score\"]])"
   ],
   "id": "a10358d86c7697a4",
   "outputs": [
    {
     "name": "stdout",
     "output_type": "stream",
     "text": [
      "          district  total_obs  unique_users  avg_tech_weight  \\\n",
      "0         ursynów        275            21         0.970909   \n",
      "1            wawer        208            16         0.884615   \n",
      "2             wola        374            34         0.971925   \n",
      "3           ochota        161            15         0.950311   \n",
      "4         mokotów        269            31         0.980297   \n",
      "5       białołęka        256            30         0.984375   \n",
      "6   praga południe        285            32         0.939649   \n",
      "7          bielany        177            22         0.993220   \n",
      "8    praga północ        119            15         0.996639   \n",
      "9            ursus         65             8         0.946154   \n",
      "10          bemowo        147            19         0.992517   \n",
      "11       targówek        114            17         1.000000   \n",
      "12          wesoła         37             5         0.891892   \n",
      "13  śródmieście        361            53         0.929086   \n",
      "14       żoliborz         67            11         1.000000   \n",
      "15        wilanów         61             9         0.883607   \n",
      "16          włochy         99            23         0.968687   \n",
      "17      rembertów          5             4         1.000000   \n",
      "\n",
      "    digital_noise_score  \n",
      "0                 100.0  \n",
      "1                  89.4  \n",
      "2                  82.4  \n",
      "3                  78.1  \n",
      "4                  63.3  \n",
      "5                  62.4  \n",
      "6                  62.1  \n",
      "7                  58.8  \n",
      "8                  58.1  \n",
      "9                  56.2  \n",
      "10                 56.1  \n",
      "11                 47.6  \n",
      "12                 46.7  \n",
      "13                 44.3  \n",
      "14                 42.2  \n",
      "15                 41.3  \n",
      "16                 25.5  \n",
      "17                  0.0  \n"
     ]
    }
   ],
   "execution_count": 8
  },
  {
   "metadata": {},
   "cell_type": "code",
   "outputs": [],
   "execution_count": null,
   "source": "",
   "id": "3df8949b0bde846b"
  }
 ],
 "metadata": {
  "kernelspec": {
   "display_name": "Python 3",
   "language": "python",
   "name": "python3"
  },
  "language_info": {
   "codemirror_mode": {
    "name": "ipython",
    "version": 2
   },
   "file_extension": ".py",
   "mimetype": "text/x-python",
   "name": "python",
   "nbconvert_exporter": "python",
   "pygments_lexer": "ipython2",
   "version": "2.7.6"
  }
 },
 "nbformat": 4,
 "nbformat_minor": 5
}
