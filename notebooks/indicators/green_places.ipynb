{
 "cells": [
  {
   "metadata": {
    "collapsed": true
   },
   "cell_type": "markdown",
   "source": [
    "### Green Life Index\n",
    "\n",
    "The **Green Life Index** measures how strongly each Warsaw district is connected to nature and outdoor spaces.\n",
    "It’s based on anonymized network data combined with geographic information about parks, forests, and green areas.\n",
    "Districts where more user activity occurs within or near green zones receive higher scores, reflecting greater access to and engagement with natural environments.\n",
    "This index highlights how residents interact with the city’s green infrastructure as part of their daily lives."
   ],
   "id": "7fbe1f903ada40aa"
  },
  {
   "metadata": {
    "ExecuteTime": {
     "end_time": "2025-10-24T22:12:50.328481Z",
     "start_time": "2025-10-24T22:12:50.325941Z"
    }
   },
   "cell_type": "code",
   "source": [
    "import pandas as pd\n",
    "import geopandas as gpd\n",
    "from shapely.geometry import Point\n",
    "import numpy as np"
   ],
   "id": "2d220de1690b174",
   "outputs": [],
   "execution_count": 12
  },
  {
   "metadata": {
    "ExecuteTime": {
     "end_time": "2025-10-24T22:12:50.785885Z",
     "start_time": "2025-10-24T22:12:50.775401Z"
    }
   },
   "cell_type": "code",
   "source": "df = pd.read_csv(\"./data/hackplay_warszawa_with_districts.csv\")\n",
   "id": "393e7836e6fcad83",
   "outputs": [],
   "execution_count": 13
  },
  {
   "metadata": {
    "ExecuteTime": {
     "end_time": "2025-10-24T22:13:05.590537Z",
     "start_time": "2025-10-24T22:13:05.585727Z"
    }
   },
   "cell_type": "code",
   "source": [
    "gdf = gpd.GeoDataFrame(\n",
    "    df,\n",
    "    geometry=gpd.points_from_xy(df[\"cell_lon\"], df[\"cell_lat\"]),\n",
    "    crs=\"EPSG:4326\",\n",
    ")"
   ],
   "id": "133f0062ae972fbf",
   "outputs": [],
   "execution_count": 15
  },
  {
   "metadata": {
    "ExecuteTime": {
     "end_time": "2025-10-24T22:13:21.525179Z",
     "start_time": "2025-10-24T22:13:17.020303Z"
    }
   },
   "cell_type": "code",
   "source": [
    "import osmnx as ox\n",
    "\n",
    "green = ox.features_from_place(\n",
    "    \"Warszawa, Polska\",\n",
    "    tags={\n",
    "        \"leisure\": [\"park\", \"garden\", \"recreation_ground\"],\n",
    "        \"landuse\": [\"forest\", \"grass\", \"meadow\"]\n",
    "    }\n",
    ")\n",
    "green = green[green.geometry.type.isin([\"Polygon\", \"MultiPolygon\"])].to_crs(\"EPSG:4326\")\n",
    "\n",
    "green = green.explode(index_parts=False, ignore_index=True)\n",
    "green = green.set_geometry(green.geometry.buffer(0))\n",
    "green = green.reset_index(drop=True)\n",
    "green[\"green_id\"] = green.index"
   ],
   "id": "5168545f7910a17b",
   "outputs": [],
   "execution_count": 16
  },
  {
   "metadata": {
    "ExecuteTime": {
     "end_time": "2025-10-24T22:13:24.530589Z",
     "start_time": "2025-10-24T22:13:24.505417Z"
    }
   },
   "cell_type": "code",
   "source": [
    "joined = gpd.sjoin(\n",
    "    gdf,\n",
    "    green[[\"green_id\", \"geometry\"]],\n",
    "    how=\"left\",\n",
    "    predicate=\"intersects\",\n",
    ")\n",
    "\n",
    "joined[\"is_green\"] = joined[\"green_id\"].notna()"
   ],
   "id": "55a18105585ab82a",
   "outputs": [],
   "execution_count": 17
  },
  {
   "metadata": {
    "ExecuteTime": {
     "end_time": "2025-10-24T22:14:17.419919Z",
     "start_time": "2025-10-24T22:14:17.404087Z"
    }
   },
   "cell_type": "code",
   "source": [
    "green_stats = (\n",
    "    joined.groupby(\"district\", as_index=False)\n",
    "          .agg(\n",
    "              total_obs=(\"user_id\", \"count\"),\n",
    "              green_obs=(\"is_green\", \"sum\"),\n",
    "              unique_users=(\"user_id\", \"nunique\")\n",
    "          )\n",
    ")\n",
    "green_stats[\"green_ratio\"] = (green_stats[\"green_obs\"] / green_stats[\"total_obs\"]).fillna(0)\n",
    "green_stats[\"green_life_score\"] = (green_stats[\"green_ratio\"] * 100).round(1)\n",
    "\n",
    "green_stats = green_stats.sort_values(\"green_life_score\", ascending=False).reset_index(drop=True)\n",
    "green_stats.to_csv(\"./data/warsaw_green_places\", index=False)\n"
   ],
   "id": "f8b3073cdf38bc46",
   "outputs": [
    {
     "name": "stdout",
     "output_type": "stream",
     "text": [
      "         district  total_obs  green_obs  unique_users  green_ratio  \\\n",
      "0      białołęka        256         52            30     0.203125   \n",
      "1           ursus         65         10             8     0.153846   \n",
      "2        mokotów        269         40            31     0.148699   \n",
      "3       targówek        114          4            17     0.035088   \n",
      "4       żoliborz         67          1            11     0.014925   \n",
      "5            wola        374          3            34     0.008021   \n",
      "6        ursynów        276          2            21     0.007246   \n",
      "7  śródmieście        361          1            53     0.002770   \n",
      "8  praga południe        285          0            32     0.000000   \n",
      "9   praga północ        119          0            15     0.000000   \n",
      "\n",
      "   green_life_score  \n",
      "0              20.3  \n",
      "1              15.4  \n",
      "2              14.9  \n",
      "3               3.5  \n",
      "4               1.5  \n",
      "5               0.8  \n",
      "6               0.7  \n",
      "7               0.3  \n",
      "8               0.0  \n",
      "9               0.0  \n"
     ]
    }
   ],
   "execution_count": 19
  },
  {
   "metadata": {},
   "cell_type": "code",
   "outputs": [],
   "execution_count": null,
   "source": "",
   "id": "bd50109486884bb5"
  }
 ],
 "metadata": {
  "kernelspec": {
   "display_name": "Python 3",
   "language": "python",
   "name": "python3"
  },
  "language_info": {
   "codemirror_mode": {
    "name": "ipython",
    "version": 2
   },
   "file_extension": ".py",
   "mimetype": "text/x-python",
   "name": "python",
   "nbconvert_exporter": "python",
   "pygments_lexer": "ipython2",
   "version": "2.7.6"
  }
 },
 "nbformat": 4,
 "nbformat_minor": 5
}
