{
 "cells": [
  {
   "metadata": {
    "collapsed": true,
    "ExecuteTime": {
     "end_time": "2025-10-24T21:07:56.016688Z",
     "start_time": "2025-10-24T21:07:56.015581Z"
    }
   },
   "cell_type": "markdown",
   "source": [
    "###  Social Life Index\n",
    "\n",
    "The **Social Life Index** reflects how actively people gather and interact across Warsaw’s districts.\n",
    "It’s derived from anonymized network data by estimating how many unique users are present together within short time intervals.\n",
    "Districts with higher simultaneous user activity receive higher scores, indicating stronger social dynamics and more vibrant local life.\n",
    "This index provides an intuitive, data-driven view of community presence across the city"
   ],
   "id": "494a97df29b5d5b9"
  },
  {
   "metadata": {
    "ExecuteTime": {
     "end_time": "2025-10-24T21:12:13.704748Z",
     "start_time": "2025-10-24T21:12:13.703106Z"
    }
   },
   "cell_type": "code",
   "source": [
    "import pandas as pd\n",
    "import numpy as np"
   ],
   "id": "e3b7a2a0b90fcc71",
   "outputs": [],
   "execution_count": 35
  },
  {
   "metadata": {
    "ExecuteTime": {
     "end_time": "2025-10-24T21:17:19.787372Z",
     "start_time": "2025-10-24T21:17:19.774901Z"
    }
   },
   "cell_type": "code",
   "source": "df = pd.read_csv(\"./data/hackplay_warszawa_with_districts.csv\")",
   "id": "1ea4221af377be49",
   "outputs": [],
   "execution_count": 52
  },
  {
   "metadata": {
    "ExecuteTime": {
     "end_time": "2025-10-24T21:18:43.462774Z",
     "start_time": "2025-10-24T21:18:43.457527Z"
    }
   },
   "cell_type": "code",
   "source": [
    "slot = \"15min\"\n",
    "min_slots_per_district = 50\n",
    "lower_q, upper_q = 0.05, 0.95"
   ],
   "id": "58d734544ec1f2c8",
   "outputs": [],
   "execution_count": 54
  },
  {
   "metadata": {
    "ExecuteTime": {
     "end_time": "2025-10-24T21:21:58.963308Z",
     "start_time": "2025-10-24T21:21:58.947441Z"
    }
   },
   "cell_type": "code",
   "source": [
    "df[\"start_dttm\"] = pd.to_datetime(df[\"start_dttm\"], errors=\"coerce\")\n",
    "tmp = df.dropna(subset=[\"start_dttm\"]).copy()\n",
    "tmp[\"time_slot\"] = tmp[\"start_dttm\"].dt.floor(slot)"
   ],
   "id": "196f4e8daab6edba",
   "outputs": [
    {
     "name": "stdout",
     "output_type": "stream",
     "text": [
      "          district  rows  social_life_score\n",
      "0             wola   374              100.0\n",
      "1   śródmieście   361               99.1\n",
      "2   praga południe   285               93.4\n",
      "3         ursynów   275               92.6\n",
      "4         mokotów   269               92.1\n",
      "5       białołęka   256               90.9\n",
      "6            wawer   208               85.9\n",
      "7          bielany   177               82.0\n",
      "8           ochota   161               79.7\n",
      "9           bemowo   147               77.5\n",
      "10   praga północ   119               72.4\n",
      "11       targówek   114               71.4\n",
      "12          włochy    99               68.0\n",
      "13       żoliborz    67               58.7\n",
      "14           ursus    65               58.0\n",
      "15        wilanów    61               56.5\n",
      "16          wesoła    37               44.6\n",
      "17      rembertów     5                0.0\n"
     ]
    }
   ],
   "execution_count": 57
  },
  {
   "metadata": {
    "ExecuteTime": {
     "end_time": "2025-10-24T21:26:41.273724Z",
     "start_time": "2025-10-24T21:26:41.254322Z"
    }
   },
   "cell_type": "code",
   "source": [
    "g = (\n",
    "    tmp.groupby([\"district\", \"cell_rk\", \"time_slot\"], as_index=False)[\"user_id\"]\n",
    "       .nunique()\n",
    "       .rename(columns={\"user_id\": \"n_users\"})\n",
    ")\n",
    "g[\"co_presence\"] = g[\"n_users\"] * (g[\"n_users\"] - 1) / 2"
   ],
   "id": "d950ba9c95242ac0",
   "outputs": [],
   "execution_count": 58
  },
  {
   "metadata": {
    "ExecuteTime": {
     "end_time": "2025-10-24T21:26:42.677810Z",
     "start_time": "2025-10-24T21:26:42.674745Z"
    }
   },
   "cell_type": "code",
   "source": [
    "def winsorize_cell(s: pd.Series, lq=0.01, uq=0.99):\n",
    "    lo = s.quantile(lq)\n",
    "    hi = s.quantile(uq)\n",
    "    return s.clip(lo, hi)"
   ],
   "id": "cd182037197bcac6",
   "outputs": [],
   "execution_count": 59
  },
  {
   "metadata": {
    "ExecuteTime": {
     "end_time": "2025-10-24T21:26:47.906038Z",
     "start_time": "2025-10-24T21:26:47.285622Z"
    }
   },
   "cell_type": "code",
   "source": "g[\"co_presence_w\"] = g.groupby([\"district\", \"cell_rk\"])[\"co_presence\"].transform(winsorize_cell)\n",
   "id": "249975cbf26ade85",
   "outputs": [],
   "execution_count": 60
  },
  {
   "metadata": {
    "ExecuteTime": {
     "end_time": "2025-10-24T21:26:52.798616Z",
     "start_time": "2025-10-24T21:26:52.795034Z"
    }
   },
   "cell_type": "code",
   "source": [
    "cell_medians = (\n",
    "    g.groupby([\"district\", \"cell_rk\"], as_index=False)[\"co_presence_w\"]\n",
    "     .median()\n",
    "     .rename(columns={\"co_presence_w\": \"cell_median_copres\"})\n",
    ")\n"
   ],
   "id": "6a510c1e7f95a23f",
   "outputs": [],
   "execution_count": 61
  },
  {
   "metadata": {
    "ExecuteTime": {
     "end_time": "2025-10-24T21:27:00.397803Z",
     "start_time": "2025-10-24T21:27:00.388923Z"
    }
   },
   "cell_type": "code",
   "source": [
    "district_cells = cell_medians.groupby(\"district\")[\"cell_rk\"].nunique().rename(\"n_active_cells\")\n",
    "district_score = (\n",
    "    cell_medians.groupby(\"district\", as_index=False)[\"cell_median_copres\"].median()\n",
    "                .rename(columns={\"cell_median_copres\": \"median_copres_per_cell\"})\n",
    "    .merge(district_cells, on=\"district\", how=\"left\")\n",
    ")\n",
    "district_score[\"normalized_copres\"] = district_score[\"median_copres_per_cell\"] * np.sqrt(district_score[\"n_active_cells\"])\n"
   ],
   "id": "49081da78b28fba0",
   "outputs": [],
   "execution_count": 62
  },
  {
   "metadata": {
    "ExecuteTime": {
     "end_time": "2025-10-24T21:27:06.289682Z",
     "start_time": "2025-10-24T21:27:06.284631Z"
    }
   },
   "cell_type": "code",
   "source": [
    "slots_per_district = g.groupby(\"district\")[\"time_slot\"].nunique().rename(\"n_slots\")\n",
    "district_score = district_score.merge(slots_per_district, on=\"district\", how=\"left\")\n",
    "district_score = district_score[district_score[\"n_slots\"] >= min_slots_per_district].copy()"
   ],
   "id": "95e6a514a9328cb9",
   "outputs": [],
   "execution_count": 63
  },
  {
   "metadata": {
    "ExecuteTime": {
     "end_time": "2025-10-24T21:27:11.718480Z",
     "start_time": "2025-10-24T21:27:11.714060Z"
    }
   },
   "cell_type": "code",
   "source": [
    "vals = district_score[\"normalized_copres\"]\n",
    "lo, hi = vals.quantile(lower_q), vals.quantile(upper_q)\n",
    "if hi == lo:\n",
    "    district_score[\"social_life_score\"] = 100.0\n",
    "else:\n",
    "    district_score[\"social_life_score\"] = ((vals.clip(lo, hi) - lo) / (hi - lo) * 100).round(1)"
   ],
   "id": "d9e43f64d5ffa667",
   "outputs": [],
   "execution_count": 64
  },
  {
   "metadata": {
    "ExecuteTime": {
     "end_time": "2025-10-24T21:27:16.763202Z",
     "start_time": "2025-10-24T21:27:16.760990Z"
    }
   },
   "cell_type": "code",
   "source": [
    "social_life = (\n",
    "    district_score[[\"district\", \"social_life_score\", \"median_copres_per_cell\", \"n_active_cells\", \"n_slots\"]]\n",
    "    .sort_values(\"social_life_score\", ascending=False)\n",
    "    .reset_index(drop=True)\n",
    ")"
   ],
   "id": "1c0c373a24831ae2",
   "outputs": [],
   "execution_count": 65
  },
  {
   "metadata": {},
   "cell_type": "code",
   "outputs": [],
   "execution_count": null,
   "source": [
    "social_life.to_csv(\"warsaw_social_life_scores.csv\", index=False)\n",
    "\n",
    "social_life.head(10)"
   ],
   "id": "4ebf20aaeb25a597"
  }
 ],
 "metadata": {
  "kernelspec": {
   "display_name": "Python 3",
   "language": "python",
   "name": "python3"
  },
  "language_info": {
   "codemirror_mode": {
    "name": "ipython",
    "version": 2
   },
   "file_extension": ".py",
   "mimetype": "text/x-python",
   "name": "python",
   "nbconvert_exporter": "python",
   "pygments_lexer": "ipython2",
   "version": "2.7.6"
  }
 },
 "nbformat": 4,
 "nbformat_minor": 5
}
